{
 "cells": [
  {
   "cell_type": "code",
   "execution_count": 3,
   "metadata": {},
   "outputs": [],
   "source": [
    "import pandas as pd \n",
    "import numpy as np\n",
    "import matplotlib.pyplot as plt \n",
    "import seaborn as sns"
   ]
  },
  {
   "cell_type": "code",
   "execution_count": 4,
   "id": "bc5f0591",
   "metadata": {},
   "outputs": [
    {
     "data": {
      "text/html": [
       "<div>\n",
       "<style scoped>\n",
       "    .dataframe tbody tr th:only-of-type {\n",
       "        vertical-align: middle;\n",
       "    }\n",
       "\n",
       "    .dataframe tbody tr th {\n",
       "        vertical-align: top;\n",
       "    }\n",
       "\n",
       "    .dataframe thead th {\n",
       "        text-align: right;\n",
       "    }\n",
       "</style>\n",
       "<table border=\"1\" class=\"dataframe\">\n",
       "  <thead>\n",
       "    <tr style=\"text-align: right;\">\n",
       "      <th></th>\n",
       "      <th>Sl. No</th>\n",
       "      <th>Patient File No.</th>\n",
       "      <th>PCOS (Y/N)</th>\n",
       "      <th>Age (yrs)</th>\n",
       "      <th>Weight (Kg)</th>\n",
       "      <th>Height(Cm)</th>\n",
       "      <th>BMI</th>\n",
       "      <th>Blood Group</th>\n",
       "      <th>Pulse rate(bpm)</th>\n",
       "      <th>RR (breaths/min)</th>\n",
       "      <th>...</th>\n",
       "      <th>Fast food (Y/N)</th>\n",
       "      <th>Reg.Exercise(Y/N)</th>\n",
       "      <th>BP _Systolic (mmHg)</th>\n",
       "      <th>BP _Diastolic (mmHg)</th>\n",
       "      <th>Follicle No. (L)</th>\n",
       "      <th>Follicle No. (R)</th>\n",
       "      <th>Avg. F size (L) (mm)</th>\n",
       "      <th>Avg. F size (R) (mm)</th>\n",
       "      <th>Endometrium (mm)</th>\n",
       "      <th>Unnamed: 44</th>\n",
       "    </tr>\n",
       "  </thead>\n",
       "  <tbody>\n",
       "    <tr>\n",
       "      <th>0</th>\n",
       "      <td>1</td>\n",
       "      <td>1</td>\n",
       "      <td>0</td>\n",
       "      <td>28</td>\n",
       "      <td>44.6</td>\n",
       "      <td>152.0</td>\n",
       "      <td>19.3</td>\n",
       "      <td>15</td>\n",
       "      <td>78</td>\n",
       "      <td>22</td>\n",
       "      <td>...</td>\n",
       "      <td>1.0</td>\n",
       "      <td>0</td>\n",
       "      <td>110</td>\n",
       "      <td>80</td>\n",
       "      <td>3</td>\n",
       "      <td>3</td>\n",
       "      <td>18.0</td>\n",
       "      <td>18.0</td>\n",
       "      <td>8.5</td>\n",
       "      <td>NaN</td>\n",
       "    </tr>\n",
       "    <tr>\n",
       "      <th>1</th>\n",
       "      <td>2</td>\n",
       "      <td>2</td>\n",
       "      <td>0</td>\n",
       "      <td>36</td>\n",
       "      <td>65.0</td>\n",
       "      <td>161.5</td>\n",
       "      <td>NaN</td>\n",
       "      <td>15</td>\n",
       "      <td>74</td>\n",
       "      <td>20</td>\n",
       "      <td>...</td>\n",
       "      <td>0.0</td>\n",
       "      <td>0</td>\n",
       "      <td>120</td>\n",
       "      <td>70</td>\n",
       "      <td>3</td>\n",
       "      <td>5</td>\n",
       "      <td>15.0</td>\n",
       "      <td>14.0</td>\n",
       "      <td>3.7</td>\n",
       "      <td>NaN</td>\n",
       "    </tr>\n",
       "    <tr>\n",
       "      <th>2</th>\n",
       "      <td>3</td>\n",
       "      <td>3</td>\n",
       "      <td>1</td>\n",
       "      <td>33</td>\n",
       "      <td>68.8</td>\n",
       "      <td>165.0</td>\n",
       "      <td>NaN</td>\n",
       "      <td>11</td>\n",
       "      <td>72</td>\n",
       "      <td>18</td>\n",
       "      <td>...</td>\n",
       "      <td>1.0</td>\n",
       "      <td>0</td>\n",
       "      <td>120</td>\n",
       "      <td>80</td>\n",
       "      <td>13</td>\n",
       "      <td>15</td>\n",
       "      <td>18.0</td>\n",
       "      <td>20.0</td>\n",
       "      <td>10.0</td>\n",
       "      <td>NaN</td>\n",
       "    </tr>\n",
       "    <tr>\n",
       "      <th>3</th>\n",
       "      <td>4</td>\n",
       "      <td>4</td>\n",
       "      <td>0</td>\n",
       "      <td>37</td>\n",
       "      <td>65.0</td>\n",
       "      <td>148.0</td>\n",
       "      <td>NaN</td>\n",
       "      <td>13</td>\n",
       "      <td>72</td>\n",
       "      <td>20</td>\n",
       "      <td>...</td>\n",
       "      <td>0.0</td>\n",
       "      <td>0</td>\n",
       "      <td>120</td>\n",
       "      <td>70</td>\n",
       "      <td>2</td>\n",
       "      <td>2</td>\n",
       "      <td>15.0</td>\n",
       "      <td>14.0</td>\n",
       "      <td>7.5</td>\n",
       "      <td>NaN</td>\n",
       "    </tr>\n",
       "    <tr>\n",
       "      <th>4</th>\n",
       "      <td>5</td>\n",
       "      <td>5</td>\n",
       "      <td>0</td>\n",
       "      <td>25</td>\n",
       "      <td>52.0</td>\n",
       "      <td>161.0</td>\n",
       "      <td>NaN</td>\n",
       "      <td>11</td>\n",
       "      <td>72</td>\n",
       "      <td>18</td>\n",
       "      <td>...</td>\n",
       "      <td>0.0</td>\n",
       "      <td>0</td>\n",
       "      <td>120</td>\n",
       "      <td>80</td>\n",
       "      <td>3</td>\n",
       "      <td>4</td>\n",
       "      <td>16.0</td>\n",
       "      <td>14.0</td>\n",
       "      <td>7.0</td>\n",
       "      <td>NaN</td>\n",
       "    </tr>\n",
       "  </tbody>\n",
       "</table>\n",
       "<p>5 rows × 45 columns</p>\n",
       "</div>"
      ],
      "text/plain": [
       "   Sl. No  Patient File No.  PCOS (Y/N)   Age (yrs)  Weight (Kg)  Height(Cm)   \\\n",
       "0       1                 1           0          28         44.6        152.0   \n",
       "1       2                 2           0          36         65.0        161.5   \n",
       "2       3                 3           1          33         68.8        165.0   \n",
       "3       4                 4           0          37         65.0        148.0   \n",
       "4       5                 5           0          25         52.0        161.0   \n",
       "\n",
       "    BMI  Blood Group  Pulse rate(bpm)   RR (breaths/min)  ...  \\\n",
       "0  19.3           15                78                22  ...   \n",
       "1   NaN           15                74                20  ...   \n",
       "2   NaN           11                72                18  ...   \n",
       "3   NaN           13                72                20  ...   \n",
       "4   NaN           11                72                18  ...   \n",
       "\n",
       "   Fast food (Y/N)  Reg.Exercise(Y/N)  BP _Systolic (mmHg)  \\\n",
       "0              1.0                  0                  110   \n",
       "1              0.0                  0                  120   \n",
       "2              1.0                  0                  120   \n",
       "3              0.0                  0                  120   \n",
       "4              0.0                  0                  120   \n",
       "\n",
       "   BP _Diastolic (mmHg)  Follicle No. (L)  Follicle No. (R)  \\\n",
       "0                    80                 3                 3   \n",
       "1                    70                 3                 5   \n",
       "2                    80                13                15   \n",
       "3                    70                 2                 2   \n",
       "4                    80                 3                 4   \n",
       "\n",
       "   Avg. F size (L) (mm) Avg. F size (R) (mm)  Endometrium (mm)  Unnamed: 44  \n",
       "0                  18.0                 18.0               8.5          NaN  \n",
       "1                  15.0                 14.0               3.7          NaN  \n",
       "2                  18.0                 20.0              10.0          NaN  \n",
       "3                  15.0                 14.0               7.5          NaN  \n",
       "4                  16.0                 14.0               7.0          NaN  \n",
       "\n",
       "[5 rows x 45 columns]"
      ]
     },
     "execution_count": 4,
     "metadata": {},
     "output_type": "execute_result"
    }
   ],
   "source": [
    "data=pd.read_excel(\"../PCOS_data.xlsx\")\n",
    "data.head()"
   ]
  },
  {
   "cell_type": "code",
   "execution_count": 5,
   "id": "b7cf43a9",
   "metadata": {},
   "outputs": [
    {
     "name": "stdout",
     "output_type": "stream",
     "text": [
      "<class 'pandas.core.frame.DataFrame'>\n",
      "RangeIndex: 541 entries, 0 to 540\n",
      "Data columns (total 45 columns):\n",
      " #   Column                  Non-Null Count  Dtype  \n",
      "---  ------                  --------------  -----  \n",
      " 0   Sl. No                  541 non-null    int64  \n",
      " 1   Patient File No.        541 non-null    int64  \n",
      " 2   PCOS (Y/N)              541 non-null    int64  \n",
      " 3    Age (yrs)              541 non-null    int64  \n",
      " 4   Weight (Kg)             541 non-null    float64\n",
      " 5   Height(Cm)              541 non-null    float64\n",
      " 6   BMI                     242 non-null    float64\n",
      " 7   Blood Group             541 non-null    int64  \n",
      " 8   Pulse rate(bpm)         541 non-null    int64  \n",
      " 9   RR (breaths/min)        541 non-null    int64  \n",
      " 10  Hb(g/dl)                541 non-null    float64\n",
      " 11  Cycle(R/I)              541 non-null    int64  \n",
      " 12  Cycle length(days)      541 non-null    int64  \n",
      " 13  Marraige Status (Yrs)   540 non-null    float64\n",
      " 14  Pregnant(Y/N)           541 non-null    int64  \n",
      " 15  No. of aborptions       541 non-null    int64  \n",
      " 16    I   beta-HCG(mIU/mL)  541 non-null    float64\n",
      " 17  II    beta-HCG(mIU/mL)  541 non-null    object \n",
      " 18  FSH(mIU/mL)             541 non-null    float64\n",
      " 19  LH(mIU/mL)              541 non-null    float64\n",
      " 20  FSH/LH                  9 non-null      float64\n",
      " 21  Hip(inch)               541 non-null    int64  \n",
      " 22  Waist(inch)             541 non-null    int64  \n",
      " 23  Waist:Hip Ratio         9 non-null      float64\n",
      " 24  TSH (mIU/L)             541 non-null    float64\n",
      " 25  AMH(ng/mL)              541 non-null    object \n",
      " 26  PRL(ng/mL)              541 non-null    float64\n",
      " 27  Vit D3 (ng/mL)          541 non-null    float64\n",
      " 28  PRG(ng/mL)              541 non-null    float64\n",
      " 29  RBS(mg/dl)              541 non-null    float64\n",
      " 30  Weight gain(Y/N)        541 non-null    int64  \n",
      " 31  hair growth(Y/N)        541 non-null    int64  \n",
      " 32  Skin darkening (Y/N)    541 non-null    int64  \n",
      " 33  Hair loss(Y/N)          541 non-null    int64  \n",
      " 34  Pimples(Y/N)            541 non-null    int64  \n",
      " 35  Fast food (Y/N)         540 non-null    float64\n",
      " 36  Reg.Exercise(Y/N)       541 non-null    int64  \n",
      " 37  BP _Systolic (mmHg)     541 non-null    int64  \n",
      " 38  BP _Diastolic (mmHg)    541 non-null    int64  \n",
      " 39  Follicle No. (L)        541 non-null    int64  \n",
      " 40  Follicle No. (R)        541 non-null    int64  \n",
      " 41  Avg. F size (L) (mm)    541 non-null    float64\n",
      " 42  Avg. F size (R) (mm)    541 non-null    float64\n",
      " 43  Endometrium (mm)        541 non-null    float64\n",
      " 44  Unnamed: 44             2 non-null      object \n",
      "dtypes: float64(19), int64(23), object(3)\n",
      "memory usage: 190.3+ KB\n"
     ]
    }
   ],
   "source": [
    "data.info()"
   ]
  },
  {
   "cell_type": "code",
   "execution_count": 6,
   "id": "37cc3f11",
   "metadata": {},
   "outputs": [
    {
     "data": {
      "text/plain": [
       "Sl. No                      0\n",
       "Patient File No.            0\n",
       "PCOS (Y/N)                  0\n",
       " Age (yrs)                  0\n",
       "Weight (Kg)                 0\n",
       "Height(Cm)                  0\n",
       "BMI                       299\n",
       "Blood Group                 0\n",
       "Pulse rate(bpm)             0\n",
       "RR (breaths/min)            0\n",
       "Hb(g/dl)                    0\n",
       "Cycle(R/I)                  0\n",
       "Cycle length(days)          0\n",
       "Marraige Status (Yrs)       1\n",
       "Pregnant(Y/N)               0\n",
       "No. of aborptions           0\n",
       "  I   beta-HCG(mIU/mL)      0\n",
       "II    beta-HCG(mIU/mL)      0\n",
       "FSH(mIU/mL)                 0\n",
       "LH(mIU/mL)                  0\n",
       "FSH/LH                    532\n",
       "Hip(inch)                   0\n",
       "Waist(inch)                 0\n",
       "Waist:Hip Ratio           532\n",
       "TSH (mIU/L)                 0\n",
       "AMH(ng/mL)                  0\n",
       "PRL(ng/mL)                  0\n",
       "Vit D3 (ng/mL)              0\n",
       "PRG(ng/mL)                  0\n",
       "RBS(mg/dl)                  0\n",
       "Weight gain(Y/N)            0\n",
       "hair growth(Y/N)            0\n",
       "Skin darkening (Y/N)        0\n",
       "Hair loss(Y/N)              0\n",
       "Pimples(Y/N)                0\n",
       "Fast food (Y/N)             1\n",
       "Reg.Exercise(Y/N)           0\n",
       "BP _Systolic (mmHg)         0\n",
       "BP _Diastolic (mmHg)        0\n",
       "Follicle No. (L)            0\n",
       "Follicle No. (R)            0\n",
       "Avg. F size (L) (mm)        0\n",
       "Avg. F size (R) (mm)        0\n",
       "Endometrium (mm)            0\n",
       "Unnamed: 44               539\n",
       "dtype: int64"
      ]
     },
     "execution_count": 6,
     "metadata": {},
     "output_type": "execute_result"
    }
   ],
   "source": [
    "data.isna().sum()"
   ]
  },
  {
   "cell_type": "code",
   "execution_count": 7,
   "id": "9cabca62",
   "metadata": {},
   "outputs": [
    {
     "data": {
      "text/plain": [
       "(541, 45)"
      ]
     },
     "execution_count": 7,
     "metadata": {},
     "output_type": "execute_result"
    }
   ],
   "source": [
    "data.shape"
   ]
  },
  {
   "cell_type": "code",
   "execution_count": 8,
   "id": "e39a68b4",
   "metadata": {},
   "outputs": [
    {
     "data": {
      "text/plain": [
       "(541, 39)"
      ]
     },
     "execution_count": 8,
     "metadata": {},
     "output_type": "execute_result"
    }
   ],
   "source": [
    "data=data.drop(columns=[\"BMI\",\"FSH/LH\",\"Waist:Hip Ratio\",\"Unnamed: 44\",\"Sl. No\",\"Patient File No.\"],axis=1)\n",
    "data.shape"
   ]
  },
  {
   "cell_type": "code",
   "execution_count": 9,
   "id": "27bed33a",
   "metadata": {},
   "outputs": [],
   "source": [
    "import warnings \n",
    "warnings.filterwarnings(\"ignore\")"
   ]
  },
  {
   "cell_type": "code",
   "execution_count": 10,
   "id": "2e4061c7",
   "metadata": {},
   "outputs": [
    {
     "data": {
      "text/plain": [
       "Index(['PCOS (Y/N)', 'Age (yrs)', 'Weight (Kg)', 'Height(Cm)', 'Blood Group',\n",
       "       'Pulse rate(bpm)', 'RR (breaths/min)', 'Hb(g/dl)', 'Cycle(R/I)',\n",
       "       'Cycle length(days)', 'Marraige Status (Yrs)', 'Pregnant(Y/N)',\n",
       "       'No. of aborptions', 'I   beta-HCG(mIU/mL)', 'II    beta-HCG(mIU/mL)',\n",
       "       'FSH(mIU/mL)', 'LH(mIU/mL)', 'Hip(inch)', 'Waist(inch)', 'TSH (mIU/L)',\n",
       "       'AMH(ng/mL)', 'PRL(ng/mL)', 'Vit D3 (ng/mL)', 'PRG(ng/mL)',\n",
       "       'RBS(mg/dl)', 'Weight gain(Y/N)', 'hair growth(Y/N)',\n",
       "       'Skin darkening (Y/N)', 'Hair loss(Y/N)', 'Pimples(Y/N)',\n",
       "       'Fast food (Y/N)', 'Reg.Exercise(Y/N)', 'BP _Systolic (mmHg)',\n",
       "       'BP _Diastolic (mmHg)', 'Follicle No. (L)', 'Follicle No. (R)',\n",
       "       'Avg. F size (L) (mm)', 'Avg. F size (R) (mm)', 'Endometrium (mm)'],\n",
       "      dtype='object')"
      ]
     },
     "execution_count": 10,
     "metadata": {},
     "output_type": "execute_result"
    }
   ],
   "source": [
    "data.columns = [col.strip() for col in data.columns]\n",
    "data.columns"
   ]
  },
  {
   "cell_type": "code",
   "execution_count": 11,
   "id": "27c1c641",
   "metadata": {},
   "outputs": [
    {
     "name": "stdout",
     "output_type": "stream",
     "text": [
      "<class 'pandas.core.frame.DataFrame'>\n",
      "RangeIndex: 541 entries, 0 to 540\n",
      "Data columns (total 39 columns):\n",
      " #   Column                  Non-Null Count  Dtype  \n",
      "---  ------                  --------------  -----  \n",
      " 0   PCOS (Y/N)              541 non-null    int64  \n",
      " 1   Age (yrs)               541 non-null    int64  \n",
      " 2   Weight (Kg)             541 non-null    float64\n",
      " 3   Height(Cm)              541 non-null    float64\n",
      " 4   Blood Group             541 non-null    int64  \n",
      " 5   Pulse rate(bpm)         541 non-null    int64  \n",
      " 6   RR (breaths/min)        541 non-null    int64  \n",
      " 7   Hb(g/dl)                541 non-null    float64\n",
      " 8   Cycle(R/I)              541 non-null    int64  \n",
      " 9   Cycle length(days)      541 non-null    int64  \n",
      " 10  Marraige Status (Yrs)   540 non-null    float64\n",
      " 11  Pregnant(Y/N)           541 non-null    int64  \n",
      " 12  No. of aborptions       541 non-null    int64  \n",
      " 13  I   beta-HCG(mIU/mL)    541 non-null    float64\n",
      " 14  II    beta-HCG(mIU/mL)  541 non-null    object \n",
      " 15  FSH(mIU/mL)             541 non-null    float64\n",
      " 16  LH(mIU/mL)              541 non-null    float64\n",
      " 17  Hip(inch)               541 non-null    int64  \n",
      " 18  Waist(inch)             541 non-null    int64  \n",
      " 19  TSH (mIU/L)             541 non-null    float64\n",
      " 20  AMH(ng/mL)              541 non-null    object \n",
      " 21  PRL(ng/mL)              541 non-null    float64\n",
      " 22  Vit D3 (ng/mL)          541 non-null    float64\n",
      " 23  PRG(ng/mL)              541 non-null    float64\n",
      " 24  RBS(mg/dl)              541 non-null    float64\n",
      " 25  Weight gain(Y/N)        541 non-null    int64  \n",
      " 26  hair growth(Y/N)        541 non-null    int64  \n",
      " 27  Skin darkening (Y/N)    541 non-null    int64  \n",
      " 28  Hair loss(Y/N)          541 non-null    int64  \n",
      " 29  Pimples(Y/N)            541 non-null    int64  \n",
      " 30  Fast food (Y/N)         540 non-null    float64\n",
      " 31  Reg.Exercise(Y/N)       541 non-null    int64  \n",
      " 32  BP _Systolic (mmHg)     541 non-null    int64  \n",
      " 33  BP _Diastolic (mmHg)    541 non-null    int64  \n",
      " 34  Follicle No. (L)        541 non-null    int64  \n",
      " 35  Follicle No. (R)        541 non-null    int64  \n",
      " 36  Avg. F size (L) (mm)    541 non-null    float64\n",
      " 37  Avg. F size (R) (mm)    541 non-null    float64\n",
      " 38  Endometrium (mm)        541 non-null    float64\n",
      "dtypes: float64(16), int64(21), object(2)\n",
      "memory usage: 165.0+ KB\n"
     ]
    }
   ],
   "source": [
    "data.info()"
   ]
  },
  {
   "cell_type": "code",
   "execution_count": 12,
   "id": "57ac61be",
   "metadata": {},
   "outputs": [
    {
     "data": {
      "text/plain": [
       "37"
      ]
     },
     "execution_count": 12,
     "metadata": {},
     "output_type": "execute_result"
    }
   ],
   "source": [
    "numerical_col=[col for col in data.columns if data[col].dtype!=\"O\"]\n",
    "len(numerical_col)"
   ]
  },
  {
   "cell_type": "code",
   "execution_count": 13,
   "id": "d98a2b87",
   "metadata": {},
   "outputs": [
    {
     "data": {
      "text/plain": [
       "(2, ['II    beta-HCG(mIU/mL)', 'AMH(ng/mL)'])"
      ]
     },
     "execution_count": 13,
     "metadata": {},
     "output_type": "execute_result"
    }
   ],
   "source": [
    "categorical_col=[col for col in data.columns if data[col].dtype==\"O\"]\n",
    "len(categorical_col),categorical_col"
   ]
  },
  {
   "cell_type": "code",
   "execution_count": 14,
   "id": "24a51e23",
   "metadata": {},
   "outputs": [
    {
     "data": {
      "text/plain": [
       "array([2.07, 1.53, 6.63, 1.22, 2.26, 6.74, 3.05, 1.54, 1, 1.61, 4.47,\n",
       "       1.67, 7.94, 2.38, 0.88, 0.69, 3.78, 1.92, 2.85, 2.13, 4.13, 2.5,\n",
       "       1.89, 0.26, 3.84, 3.56, 1.56, 1.69, 2.34, 1.58, 2.36, 3.64, 2.78,\n",
       "       0.33, 2.35, 3.88, 3.55, 4.33, 3.66, 4.5, 3.2, 2.1, 6.55, 1.2, 2.33,\n",
       "       3.22, 2.333, 2.31, 4.2, 3.21, 2.14, 2.3, 4.6, 5.8, 5.2, 4.63, 1.01,\n",
       "       2.58, 0.35, 5.23, 3.68, 2.55, 4.91, 1.03, 6.56, 3.91, 5.42, 1.65,\n",
       "       2.06, 1.81, 3.81, 3.65, 8.98, 1.7, 3.18, 2.75, 0.86, 2.29, 2.19,\n",
       "       8.46, 4.59, 1.04, 4.27, 3.86, 1.42, 10.07, 0.98, 4.07, 3.9, 10,\n",
       "       16.9, 17, 21.9, 1.6, 3.3, 21, 12.7, 1.8, 3.6, 15, 5, 17.9, 19.8,\n",
       "       9.2, 2.4, 5.14, 0.3, 11.48, 19.3, 8.8, 19, 4.3, 1.4, 12.6, 4.8,\n",
       "       17.1, 11.6, 18.4, 9.9, 3.7, 2.9, 2, 4, 15.9, 7.51, 10.04, 6.86,\n",
       "       7.02, 8.75, 5.27, 9, 3.41, 0.45, 2.53, 0.29, 2.6, 2.83, 2.01, 5.67,\n",
       "       1.68, 3.63, 3.49, 8, 10.25, 32, 3.38, 1.35, 5.78, 4.66, 1.99, 1.28,\n",
       "       3.99, 5.69, 7.81, 6.41, 5.76, 6.65, 4.15, 1.86, 2.04, 7.25, 1.91,\n",
       "       5.61, 3.02, 5.25, 7, 3.17, 5.57, 4.57, 0.37, 26.4, 5.96, 9.1, 6.6,\n",
       "       22, 1.9, 17.6, 1.1, 7.8, 7.7, 9.7, 0.2, 12, 16.7, 13.6, 16.8, 3.5,\n",
       "       1.3, 3.14, 1.25, 7.3, 7.2, 3.29, 2.69, 4.1, 6.2, 14.6, 4.71, 11.1,\n",
       "       1.5, 2.25, 6.8, 0.8, 7.21, 0.9, 8.5, 66, 26.8, 1.15, 0.16, 8.1,\n",
       "       0.56, 5.3, 6.5, 15.3, 10.6, 4.7, 5.4, 17.5, 6, 21.8, 18.5, 12.4,\n",
       "       10.8, 18.7, 18, 0.28, 'a', 3, 1.06, 2.23, 3.33, 2.65, 11, 5.7,\n",
       "       6.33, 2.2, 15.7, 2.17, 14.7, 2.8, 5.9, 8.9, 20.4, 9.8, 10.7, 3.09,\n",
       "       10.9, 6.4, 5.1, 3.1, 5.6, 7.9, 18.9, 11.4, 3.8, 1.14, 28.6, 5.5,\n",
       "       0.5, 3.4, 2.28, 11.9, 6.9, 0.1, 12.8, 2.7, 0.84, 20, 10.3, 10.2,\n",
       "       0.6, 0.91, 0.89, 0.87, 0.7, 0.85, 0.78, 16, 0.74, 0.99, 4.02, 6.09,\n",
       "       0.71, 3.62, 1.97, 3.03, 5.75, 6.26, 0.72, 10.53, 10.32, 2.39, 4.9,\n",
       "       11.2, 16.6, 0.19, 6.3, 19.6, 18.2, 7.6], dtype=object)"
      ]
     },
     "execution_count": 14,
     "metadata": {},
     "output_type": "execute_result"
    }
   ],
   "source": [
    "data[\"AMH(ng/mL)\"].unique()"
   ]
  },
  {
   "cell_type": "code",
   "execution_count": 15,
   "id": "9e46e615",
   "metadata": {},
   "outputs": [
    {
     "data": {
      "text/plain": [
       "(AMH(ng/mL)\n",
       " 1.00    9\n",
       " 2.50    9\n",
       " 4.50    7\n",
       " 1.20    6\n",
       " 2.90    6\n",
       "        ..\n",
       " 0.45    1\n",
       " 2.53    1\n",
       " 0.29    1\n",
       " 5.67    1\n",
       " 7.60    1\n",
       " Name: count, Length: 299, dtype: int64,\n",
       " (539, 39))"
      ]
     },
     "execution_count": 15,
     "metadata": {},
     "output_type": "execute_result"
    }
   ],
   "source": [
    "data=data[data[\"AMH(ng/mL)\"]!=\"a\"]\n",
    "data=data[data[\"II    beta-HCG(mIU/mL)\"]!=\"1.99.\"]\n",
    "data[\"AMH(ng/mL)\"]= data[\"AMH(ng/mL)\"].astype(dtype=np.float32)\n",
    "data[\"II    beta-HCG(mIU/mL)\"]= data[\"II    beta-HCG(mIU/mL)\"].astype(dtype=np.float32)\n",
    "data[\"AMH(ng/mL)\"].value_counts(),data.shape"
   ]
  },
  {
   "cell_type": "code",
   "execution_count": 16,
   "id": "022c6610",
   "metadata": {},
   "outputs": [
    {
     "name": "stdout",
     "output_type": "stream",
     "text": [
      "<class 'pandas.core.frame.DataFrame'>\n",
      "Index: 539 entries, 0 to 540\n",
      "Data columns (total 39 columns):\n",
      " #   Column                  Non-Null Count  Dtype  \n",
      "---  ------                  --------------  -----  \n",
      " 0   PCOS (Y/N)              539 non-null    int64  \n",
      " 1   Age (yrs)               539 non-null    int64  \n",
      " 2   Weight (Kg)             539 non-null    float64\n",
      " 3   Height(Cm)              539 non-null    float64\n",
      " 4   Blood Group             539 non-null    int64  \n",
      " 5   Pulse rate(bpm)         539 non-null    int64  \n",
      " 6   RR (breaths/min)        539 non-null    int64  \n",
      " 7   Hb(g/dl)                539 non-null    float64\n",
      " 8   Cycle(R/I)              539 non-null    int64  \n",
      " 9   Cycle length(days)      539 non-null    int64  \n",
      " 10  Marraige Status (Yrs)   538 non-null    float64\n",
      " 11  Pregnant(Y/N)           539 non-null    int64  \n",
      " 12  No. of aborptions       539 non-null    int64  \n",
      " 13  I   beta-HCG(mIU/mL)    539 non-null    float64\n",
      " 14  II    beta-HCG(mIU/mL)  539 non-null    float32\n",
      " 15  FSH(mIU/mL)             539 non-null    float64\n",
      " 16  LH(mIU/mL)              539 non-null    float64\n",
      " 17  Hip(inch)               539 non-null    int64  \n",
      " 18  Waist(inch)             539 non-null    int64  \n",
      " 19  TSH (mIU/L)             539 non-null    float64\n",
      " 20  AMH(ng/mL)              539 non-null    float32\n",
      " 21  PRL(ng/mL)              539 non-null    float64\n",
      " 22  Vit D3 (ng/mL)          539 non-null    float64\n",
      " 23  PRG(ng/mL)              539 non-null    float64\n",
      " 24  RBS(mg/dl)              539 non-null    float64\n",
      " 25  Weight gain(Y/N)        539 non-null    int64  \n",
      " 26  hair growth(Y/N)        539 non-null    int64  \n",
      " 27  Skin darkening (Y/N)    539 non-null    int64  \n",
      " 28  Hair loss(Y/N)          539 non-null    int64  \n",
      " 29  Pimples(Y/N)            539 non-null    int64  \n",
      " 30  Fast food (Y/N)         538 non-null    float64\n",
      " 31  Reg.Exercise(Y/N)       539 non-null    int64  \n",
      " 32  BP _Systolic (mmHg)     539 non-null    int64  \n",
      " 33  BP _Diastolic (mmHg)    539 non-null    int64  \n",
      " 34  Follicle No. (L)        539 non-null    int64  \n",
      " 35  Follicle No. (R)        539 non-null    int64  \n",
      " 36  Avg. F size (L) (mm)    539 non-null    float64\n",
      " 37  Avg. F size (R) (mm)    539 non-null    float64\n",
      " 38  Endometrium (mm)        539 non-null    float64\n",
      "dtypes: float32(2), float64(16), int64(21)\n",
      "memory usage: 164.2 KB\n"
     ]
    }
   ],
   "source": [
    "data.info()"
   ]
  },
  {
   "cell_type": "code",
   "execution_count": 17,
   "id": "4ca4d131",
   "metadata": {},
   "outputs": [
    {
     "data": {
      "text/plain": [
       "(0, [])"
      ]
     },
     "execution_count": 17,
     "metadata": {},
     "output_type": "execute_result"
    }
   ],
   "source": [
    "categorical_col=[col for col in data.columns if data[col].dtype==\"O\"]\n",
    "len(categorical_col),categorical_col"
   ]
  },
  {
   "cell_type": "code",
   "execution_count": 18,
   "id": "4902d5aa",
   "metadata": {},
   "outputs": [
    {
     "data": {
      "text/plain": [
       "<Axes: >"
      ]
     },
     "execution_count": 18,
     "metadata": {},
     "output_type": "execute_result"
    },
    {
     "data": {
      "image/png": "[encoded data removed]",
      "text/plain": [
       "<Figure size 4000x4000 with 2 Axes>"
      ]
     },
     "metadata": {},
     "output_type": "display_data"
    }
   ],
   "source": [
    "plt.figure(figsize=(40,40))\n",
    "sns.heatmap(data.corr(),annot=True)"
   ]
  },
  {
   "cell_type": "code",
   "execution_count": 19,
   "id": "2c8d2f40",
   "metadata": {},
   "outputs": [],
   "source": [
    "data=data.dropna(axis=0)"
   ]
  },
  {
   "cell_type": "code",
   "execution_count": 20,
   "id": "6e5b382d",
   "metadata": {},
   "outputs": [
    {
     "data": {
      "text/plain": [
       "PCOS (Y/N)                0\n",
       "Age (yrs)                 0\n",
       "Weight (Kg)               0\n",
       "Height(Cm)                0\n",
       "Blood Group               0\n",
       "Pulse rate(bpm)           0\n",
       "RR (breaths/min)          0\n",
       "Hb(g/dl)                  0\n",
       "Cycle(R/I)                0\n",
       "Cycle length(days)        0\n",
       "Marraige Status (Yrs)     0\n",
       "Pregnant(Y/N)             0\n",
       "No. of aborptions         0\n",
       "I   beta-HCG(mIU/mL)      0\n",
       "II    beta-HCG(mIU/mL)    0\n",
       "FSH(mIU/mL)               0\n",
       "LH(mIU/mL)                0\n",
       "Hip(inch)                 0\n",
       "Waist(inch)               0\n",
       "TSH (mIU/L)               0\n",
       "AMH(ng/mL)                0\n",
       "PRL(ng/mL)                0\n",
       "Vit D3 (ng/mL)            0\n",
       "PRG(ng/mL)                0\n",
       "RBS(mg/dl)                0\n",
       "Weight gain(Y/N)          0\n",
       "hair growth(Y/N)          0\n",
       "Skin darkening (Y/N)      0\n",
       "Hair loss(Y/N)            0\n",
       "Pimples(Y/N)              0\n",
       "Fast food (Y/N)           0\n",
       "Reg.Exercise(Y/N)         0\n",
       "BP _Systolic (mmHg)       0\n",
       "BP _Diastolic (mmHg)      0\n",
       "Follicle No. (L)          0\n",
       "Follicle No. (R)          0\n",
       "Avg. F size (L) (mm)      0\n",
       "Avg. F size (R) (mm)      0\n",
       "Endometrium (mm)          0\n",
       "dtype: int64"
      ]
     },
     "execution_count": 20,
     "metadata": {},
     "output_type": "execute_result"
    }
   ],
   "source": [
    "data.isna().sum()"
   ]
  },
  {
   "cell_type": "code",
   "execution_count": 21,
   "id": "c0c34a25",
   "metadata": {},
   "outputs": [
    {
     "data": {
      "text/plain": [
       "(537, 39)"
      ]
     },
     "execution_count": 21,
     "metadata": {},
     "output_type": "execute_result"
    }
   ],
   "source": [
    "data.shape"
   ]
  },
  {
   "cell_type": "code",
   "execution_count": 22,
   "id": "585ee20d",
   "metadata": {},
   "outputs": [],
   "source": [
    "data.to_csv(\"pcosdata.csv\")"
   ]
  },
  {
   "cell_type": "code",
   "execution_count": 23,
   "id": "9d43ff05",
   "metadata": {},
   "outputs": [
    {
     "name": "stdout",
     "output_type": "stream",
     "text": [
      "Value counts for column index PCOS (Y/N):\n",
      "PCOS (Y/N)\n",
      "0    362\n",
      "1    175\n",
      "Name: count, dtype: int64\n",
      "----------------------------------------\n",
      "Value counts for column index Age (yrs):\n",
      "Age (yrs)\n",
      "28    45\n",
      "32    44\n",
      "35    37\n",
      "30    37\n",
      "27    34\n",
      "29    34\n",
      "31    33\n",
      "26    32\n",
      "36    32\n",
      "34    29\n",
      "33    25\n",
      "38    20\n",
      "25    18\n",
      "23    17\n",
      "40    15\n",
      "24    15\n",
      "37    14\n",
      "41     9\n",
      "39     9\n",
      "22     8\n",
      "20     6\n",
      "42     6\n",
      "45     4\n",
      "44     3\n",
      "21     3\n",
      "43     3\n",
      "47     3\n",
      "48     1\n",
      "46     1\n",
      "Name: count, dtype: int64\n",
      "----------------------------------------\n",
      "Value counts for column index Weight (Kg):\n",
      "Weight (Kg)\n",
      "60.0    36\n",
      "50.0    34\n",
      "52.0    27\n",
      "65.0    25\n",
      "56.0    21\n",
      "        ..\n",
      "56.4     1\n",
      "53.4     1\n",
      "68.6     1\n",
      "64.3     1\n",
      "63.2     1\n",
      "Name: count, Length: 116, dtype: int64\n",
      "----------------------------------------\n",
      "Value counts for column index Height(Cm):\n",
      "Height(Cm)\n",
      "158.000    66\n",
      "152.000    65\n",
      "150.000    45\n",
      "154.000    38\n",
      "155.000    27\n",
      "161.000    24\n",
      "160.000    24\n",
      "156.000    21\n",
      "162.000    20\n",
      "153.000    19\n",
      "148.000    17\n",
      "165.000    17\n",
      "159.000    16\n",
      "163.000    14\n",
      "164.000    13\n",
      "157.000    13\n",
      "158.496    11\n",
      "151.000     9\n",
      "145.000     6\n",
      "170.000     6\n",
      "164.592     5\n",
      "149.000     5\n",
      "161.544     4\n",
      "168.000     4\n",
      "146.000     4\n",
      "155.448     3\n",
      "147.000     3\n",
      "173.000     3\n",
      "164.500     3\n",
      "167.000     2\n",
      "170.688     2\n",
      "144.000     2\n",
      "152.400     2\n",
      "143.000     2\n",
      "171.000     2\n",
      "172.000     2\n",
      "166.000     2\n",
      "142.000     2\n",
      "167.640     2\n",
      "169.000     2\n",
      "140.000     1\n",
      "161.500     1\n",
      "164.400     1\n",
      "153.400     1\n",
      "173.700     1\n",
      "158.400     1\n",
      "167.700     1\n",
      "137.000     1\n",
      "180.000     1\n",
      "146.304     1\n",
      "Name: count, dtype: int64\n",
      "----------------------------------------\n",
      "Value counts for column index Blood Group:\n",
      "Blood Group\n",
      "15    204\n",
      "13    133\n",
      "11    108\n",
      "17     42\n",
      "16     19\n",
      "14     16\n",
      "12     13\n",
      "18      2\n",
      "Name: count, dtype: int64\n",
      "----------------------------------------\n",
      "Value counts for column index Pulse rate(bpm):\n",
      "Pulse rate(bpm)\n",
      "72    271\n",
      "74     99\n",
      "78     60\n",
      "70     45\n",
      "80     29\n",
      "73     17\n",
      "75      7\n",
      "76      4\n",
      "82      3\n",
      "18      1\n",
      "13      1\n",
      "Name: count, dtype: int64\n",
      "----------------------------------------\n",
      "Value counts for column index RR (breaths/min):\n",
      "RR (breaths/min)\n",
      "18    270\n",
      "20    183\n",
      "22     57\n",
      "16     12\n",
      "24     11\n",
      "28      2\n",
      "26      1\n",
      "19      1\n",
      "Name: count, dtype: int64\n",
      "----------------------------------------\n",
      "Value counts for column index Hb(g/dl):\n",
      "Hb(g/dl)\n",
      "11.00    61\n",
      "10.80    59\n",
      "12.00    43\n",
      "10.50    43\n",
      "10.00    40\n",
      "11.20    36\n",
      "10.20    35\n",
      "11.50    35\n",
      "11.10    22\n",
      "10.70    21\n",
      "12.50    17\n",
      "11.80    13\n",
      "12.10    12\n",
      "12.40    11\n",
      "11.70    10\n",
      "10.60     9\n",
      "12.80     7\n",
      "13.20     7\n",
      "10.40     7\n",
      "10.30     5\n",
      "11.40     4\n",
      "11.90     4\n",
      "9.40      3\n",
      "13.80     3\n",
      "10.10     2\n",
      "12.60     2\n",
      "13.40     2\n",
      "11.30     2\n",
      "14.00     2\n",
      "12.20     2\n",
      "12.70     2\n",
      "12.30     2\n",
      "9.00      1\n",
      "13.30     1\n",
      "13.00     1\n",
      "14.20     1\n",
      "14.80     1\n",
      "10.48     1\n",
      "12.01     1\n",
      "10.09     1\n",
      "12.90     1\n",
      "8.50      1\n",
      "11.60     1\n",
      "9.50      1\n",
      "10.90     1\n",
      "9.80      1\n",
      "Name: count, dtype: int64\n",
      "----------------------------------------\n",
      "Value counts for column index Cycle(R/I):\n",
      "Cycle(R/I)\n",
      "2    388\n",
      "4    148\n",
      "5      1\n",
      "Name: count, dtype: int64\n",
      "----------------------------------------\n",
      "Value counts for column index Cycle length(days):\n",
      "Cycle length(days)\n",
      "5     274\n",
      "6      91\n",
      "4      60\n",
      "2      38\n",
      "3      36\n",
      "7      18\n",
      "9       9\n",
      "11      5\n",
      "8       2\n",
      "12      2\n",
      "0       1\n",
      "10      1\n",
      "Name: count, dtype: int64\n",
      "----------------------------------------\n",
      "Value counts for column index Marraige Status (Yrs):\n",
      "Marraige Status (Yrs)\n",
      "4.0     52\n",
      "3.0     51\n",
      "8.0     48\n",
      "5.0     46\n",
      "10.0    44\n",
      "7.0     43\n",
      "6.0     38\n",
      "12.0    29\n",
      "2.0     28\n",
      "13.0    24\n",
      "11.0    16\n",
      "9.0     16\n",
      "15.0    14\n",
      "1.0     13\n",
      "14.0    12\n",
      "16.0     8\n",
      "18.0     7\n",
      "2.5      7\n",
      "3.5      7\n",
      "17.0     6\n",
      "1.5      5\n",
      "6.5      4\n",
      "22.0     2\n",
      "19.0     2\n",
      "20.0     2\n",
      "4.5      2\n",
      "30.0     2\n",
      "25.0     2\n",
      "23.0     2\n",
      "0.0      1\n",
      "8.5      1\n",
      "7.5      1\n",
      "24.0     1\n",
      "2.2      1\n",
      "Name: count, dtype: int64\n",
      "----------------------------------------\n",
      "Value counts for column index Pregnant(Y/N):\n",
      "Pregnant(Y/N)\n",
      "0    331\n",
      "1    206\n",
      "Name: count, dtype: int64\n",
      "----------------------------------------\n",
      "Value counts for column index No. of aborptions:\n",
      "No. of aborptions\n",
      "0    433\n",
      "1     69\n",
      "2     22\n",
      "3     10\n",
      "4      2\n",
      "5      1\n",
      "Name: count, dtype: int64\n",
      "----------------------------------------\n",
      "Value counts for column index I   beta-HCG(mIU/mL):\n",
      "I   beta-HCG(mIU/mL)\n",
      "1.99      189\n",
      "10.00      11\n",
      "2.00        7\n",
      "15.00       4\n",
      "1.97        3\n",
      "         ... \n",
      "108.66      1\n",
      "569.30      1\n",
      "2.58        1\n",
      "896.60      1\n",
      "292.92      1\n",
      "Name: count, Length: 305, dtype: int64\n",
      "----------------------------------------\n",
      "Value counts for column index II    beta-HCG(mIU/mL):\n",
      "II    beta-HCG(mIU/mL)\n",
      "1.990000      304\n",
      "2.000000        8\n",
      "15.000000       6\n",
      "12.000000       6\n",
      "1.900000        3\n",
      "             ... \n",
      "236.500000      1\n",
      "896.599976      1\n",
      "2.580000        1\n",
      "569.299988      1\n",
      "5.810000        1\n",
      "Name: count, Length: 202, dtype: int64\n",
      "----------------------------------------\n",
      "Value counts for column index FSH(mIU/mL):\n",
      "FSH(mIU/mL)\n",
      "5.710    6\n",
      "1.000    5\n",
      "5.010    5\n",
      "3.990    5\n",
      "4.960    5\n",
      "        ..\n",
      "2.557    1\n",
      "5.200    1\n",
      "3.440    1\n",
      "2.470    1\n",
      "4.400    1\n",
      "Name: count, Length: 368, dtype: int64\n",
      "----------------------------------------\n",
      "Value counts for column index LH(mIU/mL):\n",
      "LH(mIU/mL)\n",
      "1.00    5\n",
      "0.20    5\n",
      "1.97    5\n",
      "0.10    5\n",
      "2.02    5\n",
      "       ..\n",
      "1.12    1\n",
      "1.24    1\n",
      "3.18    1\n",
      "3.62    1\n",
      "4.33    1\n",
      "Name: count, Length: 341, dtype: int64\n",
      "----------------------------------------\n",
      "Value counts for column index Hip(inch):\n",
      "Hip(inch)\n",
      "38    106\n",
      "36     65\n",
      "39     56\n",
      "40     52\n",
      "42     49\n",
      "37     32\n",
      "34     31\n",
      "32     23\n",
      "44     20\n",
      "35     20\n",
      "45     17\n",
      "30     15\n",
      "41     14\n",
      "28     11\n",
      "46      8\n",
      "48      7\n",
      "33      7\n",
      "26      3\n",
      "43      1\n",
      "Name: count, dtype: int64\n",
      "----------------------------------------\n",
      "Value counts for column index Waist(inch):\n",
      "Waist(inch)\n",
      "34    85\n",
      "32    85\n",
      "35    66\n",
      "36    54\n",
      "30    51\n",
      "33    40\n",
      "38    33\n",
      "37    22\n",
      "28    21\n",
      "40    13\n",
      "31    13\n",
      "39    11\n",
      "26     8\n",
      "42     6\n",
      "44     5\n",
      "29     4\n",
      "41     4\n",
      "27     4\n",
      "25     4\n",
      "24     4\n",
      "46     2\n",
      "47     1\n",
      "43     1\n",
      "Name: count, dtype: int64\n",
      "----------------------------------------\n",
      "Value counts for column index TSH (mIU/L):\n",
      "TSH (mIU/L)\n",
      "5.000    18\n",
      "1.000     9\n",
      "1.510     7\n",
      "2.000     5\n",
      "1.400     5\n",
      "         ..\n",
      "2.490     1\n",
      "1.361     1\n",
      "3.160     1\n",
      "2.740     1\n",
      "2.500     1\n",
      "Name: count, Length: 307, dtype: int64\n",
      "----------------------------------------\n",
      "Value counts for column index AMH(ng/mL):\n",
      "AMH(ng/mL)\n",
      "1.00    9\n",
      "2.50    9\n",
      "4.50    7\n",
      "1.20    6\n",
      "2.90    6\n",
      "       ..\n",
      "2.53    1\n",
      "0.29    1\n",
      "5.67    1\n",
      "3.63    1\n",
      "7.60    1\n",
      "Name: count, Length: 298, dtype: int64\n",
      "----------------------------------------\n",
      "Value counts for column index PRL(ng/mL):\n",
      "PRL(ng/mL)\n",
      "25.04    3\n",
      "8.10     3\n",
      "12.11    3\n",
      "24.33    2\n",
      "10.60    2\n",
      "        ..\n",
      "26.00    1\n",
      "28.71    1\n",
      "38.93    1\n",
      "17.70    1\n",
      "20.74    1\n",
      "Name: count, Length: 480, dtype: int64\n",
      "----------------------------------------\n",
      "Value counts for column index Vit D3 (ng/mL):\n",
      "Vit D3 (ng/mL)\n",
      "18.70    6\n",
      "23.40    5\n",
      "24.30    5\n",
      "30.50    5\n",
      "22.70    5\n",
      "        ..\n",
      "13.60    1\n",
      "22.80    1\n",
      "54.70    1\n",
      "33.55    1\n",
      "23.00    1\n",
      "Name: count, Length: 331, dtype: int64\n",
      "----------------------------------------\n",
      "Value counts for column index PRG(ng/mL):\n",
      "PRG(ng/mL)\n",
      "0.250    171\n",
      "0.300     30\n",
      "0.400     20\n",
      "0.350     18\n",
      "0.380     15\n",
      "        ... \n",
      "1.260      1\n",
      "0.047      1\n",
      "1.200      1\n",
      "0.170      1\n",
      "0.230      1\n",
      "Name: count, Length: 89, dtype: int64\n",
      "----------------------------------------\n",
      "Value counts for column index RBS(mg/dl):\n",
      "RBS(mg/dl)\n",
      "100.0    111\n",
      "92.0     105\n",
      "91.0      23\n",
      "108.0     22\n",
      "93.0      19\n",
      "116.0     19\n",
      "85.0      19\n",
      "84.0      18\n",
      "115.0     18\n",
      "80.0      16\n",
      "110.0     15\n",
      "107.0     15\n",
      "125.0      9\n",
      "95.0       8\n",
      "130.0      7\n",
      "82.0       7\n",
      "120.0      7\n",
      "86.0       7\n",
      "106.0      7\n",
      "90.0       7\n",
      "138.0      5\n",
      "94.0       5\n",
      "98.0       5\n",
      "133.0      5\n",
      "102.0      4\n",
      "88.0       4\n",
      "70.0       4\n",
      "112.0      3\n",
      "87.0       3\n",
      "123.0      3\n",
      "76.0       3\n",
      "140.0      3\n",
      "72.0       3\n",
      "160.0      2\n",
      "73.0       2\n",
      "105.0      2\n",
      "146.0      2\n",
      "83.0       2\n",
      "77.0       2\n",
      "122.0      1\n",
      "135.0      1\n",
      "225.0      1\n",
      "79.0       1\n",
      "104.0      1\n",
      "113.0      1\n",
      "350.0      1\n",
      "83.2       1\n",
      "131.0      1\n",
      "60.0       1\n",
      "97.0       1\n",
      "109.0      1\n",
      "134.0      1\n",
      "75.0       1\n",
      "127.0      1\n",
      "103.0      1\n",
      "Name: count, dtype: int64\n",
      "----------------------------------------\n",
      "Value counts for column index Weight gain(Y/N):\n",
      "Weight gain(Y/N)\n",
      "0    334\n",
      "1    203\n",
      "Name: count, dtype: int64\n",
      "----------------------------------------\n",
      "Value counts for column index hair growth(Y/N):\n",
      "hair growth(Y/N)\n",
      "0    390\n",
      "1    147\n",
      "Name: count, dtype: int64\n",
      "----------------------------------------\n",
      "Value counts for column index Skin darkening (Y/N):\n",
      "Skin darkening (Y/N)\n",
      "0    373\n",
      "1    164\n",
      "Name: count, dtype: int64\n",
      "----------------------------------------\n",
      "Value counts for column index Hair loss(Y/N):\n",
      "Hair loss(Y/N)\n",
      "0    294\n",
      "1    243\n",
      "Name: count, dtype: int64\n",
      "----------------------------------------\n",
      "Value counts for column index Pimples(Y/N):\n",
      "Pimples(Y/N)\n",
      "0    273\n",
      "1    264\n",
      "Name: count, dtype: int64\n",
      "----------------------------------------\n",
      "Value counts for column index Fast food (Y/N):\n",
      "Fast food (Y/N)\n",
      "1.0    277\n",
      "0.0    260\n",
      "Name: count, dtype: int64\n",
      "----------------------------------------\n",
      "Value counts for column index Reg.Exercise(Y/N):\n",
      "Reg.Exercise(Y/N)\n",
      "0    406\n",
      "1    131\n",
      "Name: count, dtype: int64\n",
      "----------------------------------------\n",
      "Value counts for column index BP _Systolic (mmHg):\n",
      "BP _Systolic (mmHg)\n",
      "110    264\n",
      "120    250\n",
      "100     12\n",
      "130      8\n",
      "140      2\n",
      "12       1\n",
      "Name: count, dtype: int64\n",
      "----------------------------------------\n",
      "Value counts for column index BP _Diastolic (mmHg):\n",
      "BP _Diastolic (mmHg)\n",
      "80     378\n",
      "70     156\n",
      "60       1\n",
      "8        1\n",
      "100      1\n",
      "Name: count, dtype: int64\n",
      "----------------------------------------\n",
      "Value counts for column index Follicle No. (L):\n",
      "Follicle No. (L)\n",
      "3     61\n",
      "1     59\n",
      "6     54\n",
      "4     52\n",
      "5     51\n",
      "2     42\n",
      "7     38\n",
      "8     35\n",
      "9     27\n",
      "10    25\n",
      "12    23\n",
      "11    17\n",
      "14    12\n",
      "0     10\n",
      "13     9\n",
      "16     6\n",
      "15     6\n",
      "18     4\n",
      "21     3\n",
      "20     2\n",
      "22     1\n",
      "Name: count, dtype: int64\n",
      "----------------------------------------\n",
      "Value counts for column index Follicle No. (R):\n",
      "Follicle No. (R)\n",
      "5     55\n",
      "7     54\n",
      "2     54\n",
      "3     49\n",
      "4     46\n",
      "1     41\n",
      "10    40\n",
      "6     36\n",
      "12    30\n",
      "9     29\n",
      "8     23\n",
      "11    18\n",
      "15    13\n",
      "0     11\n",
      "14    10\n",
      "16     7\n",
      "20     6\n",
      "13     6\n",
      "18     5\n",
      "19     4\n",
      "Name: count, dtype: int64\n",
      "----------------------------------------\n",
      "Value counts for column index Avg. F size (L) (mm):\n",
      "Avg. F size (L) (mm)\n",
      "15.0    76\n",
      "18.0    68\n",
      "14.0    60\n",
      "16.0    52\n",
      "19.0    47\n",
      "17.0    46\n",
      "13.0    38\n",
      "12.0    31\n",
      "10.0    28\n",
      "11.0    25\n",
      "20.0    21\n",
      "0.0      7\n",
      "21.0     7\n",
      "8.0      5\n",
      "9.5      3\n",
      "17.5     3\n",
      "10.5     2\n",
      "9.0      2\n",
      "7.0      2\n",
      "22.0     2\n",
      "18.5     2\n",
      "2.0      1\n",
      "12.5     1\n",
      "24.0     1\n",
      "14.5     1\n",
      "15.5     1\n",
      "7.5      1\n",
      "11.5     1\n",
      "5.0      1\n",
      "6.5      1\n",
      "6.8      1\n",
      "Name: count, dtype: int64\n",
      "----------------------------------------\n",
      "Value counts for column index Avg. F size (R) (mm):\n",
      "Avg. F size (R) (mm)\n",
      "18.00    84\n",
      "15.00    61\n",
      "17.00    56\n",
      "14.00    52\n",
      "19.00    50\n",
      "16.00    49\n",
      "12.00    44\n",
      "13.00    38\n",
      "20.00    26\n",
      "11.00    25\n",
      "10.00    11\n",
      "21.00    10\n",
      "9.00      6\n",
      "7.00      3\n",
      "6.00      2\n",
      "22.00     2\n",
      "8.50      2\n",
      "17.50     2\n",
      "16.50     1\n",
      "0.17      1\n",
      "24.00     1\n",
      "0.00      1\n",
      "11.50     1\n",
      "4.70      1\n",
      "10.50     1\n",
      "5.80      1\n",
      "6.20      1\n",
      "4.50      1\n",
      "5.00      1\n",
      "13.50     1\n",
      "8.00      1\n",
      "23.00     1\n",
      "Name: count, dtype: int64\n",
      "----------------------------------------\n",
      "Value counts for column index Endometrium (mm):\n",
      "Endometrium (mm)\n",
      "9.0     52\n",
      "8.0     45\n",
      "7.0     37\n",
      "10.0    35\n",
      "8.5     26\n",
      "        ..\n",
      "3.9      1\n",
      "16.0     1\n",
      "9.9      1\n",
      "6.1      1\n",
      "6.9      1\n",
      "Name: count, Length: 91, dtype: int64\n",
      "----------------------------------------\n"
     ]
    }
   ],
   "source": [
    "for i in range(data.shape[1]):\n",
    "    print(f\"Value counts for column index {data.columns[i]}:\")\n",
    "    print(data.iloc[:, i].value_counts())\n",
    "    print(\"-\" * 40)\n"
   ]
  },
  {
   "cell_type": "code",
   "execution_count": 24,
   "id": "72eff9a7",
   "metadata": {},
   "outputs": [
    {
     "data": {
      "text/plain": [
       "(537, 1)"
      ]
     },
     "execution_count": 24,
     "metadata": {},
     "output_type": "execute_result"
    }
   ],
   "source": [
    "y=data[\"PCOS (Y/N)\"].values.reshape(-1,1)\n",
    "y.shape"
   ]
  },
  {
   "cell_type": "code",
   "execution_count": 25,
   "id": "d6446fa5",
   "metadata": {},
   "outputs": [
    {
     "data": {
      "text/plain": [
       "(537, 38)"
      ]
     },
     "execution_count": 25,
     "metadata": {},
     "output_type": "execute_result"
    }
   ],
   "source": [
    "x=data.drop(columns=\"PCOS (Y/N)\",axis=1)\n",
    "x.shape"
   ]
  },
  {
   "cell_type": "code",
   "execution_count": 26,
   "id": "90a78fcc",
   "metadata": {},
   "outputs": [
    {
     "name": "stdout",
     "output_type": "stream",
     "text": [
      "(429, 38),(108, 1)\n"
     ]
    }
   ],
   "source": [
    "from sklearn.metrics import classification_report,confusion_matrix\n",
    "from sklearn.model_selection import train_test_split\n",
    "from sklearn.preprocessing import StandardScaler\n",
    "sc=StandardScaler()\n",
    "x=sc.fit_transform(x)\n",
    "x_train,x_test,y_train,y_test=train_test_split(x,y,test_size=0.2,random_state=47,stratify=y)\n",
    "print(f\"{x_train.shape},{y_test.shape}\")"
   ]
  },
  {
   "cell_type": "code",
   "execution_count": 27,
   "id": "fbd1f837",
   "metadata": {},
   "outputs": [],
   "source": [
    "from sklearn.tree import DecisionTreeClassifier\n",
    "from sklearn.ensemble import RandomForestClassifier\n",
    "dtc=DecisionTreeClassifier(criterion=\"entropy\",max_depth=10)"
   ]
  },
  {
   "cell_type": "markdown",
   "id": "52a8d59c",
   "metadata": {},
   "source": [
    "Decision Tree classifier"
   ]
  },
  {
   "cell_type": "code",
   "execution_count": 28,
   "id": "14c8c5e1",
   "metadata": {},
   "outputs": [
    {
     "name": "stdout",
     "output_type": "stream",
     "text": [
      "[0 1 0 0 0 0 1 1 1 0 0 1 0 0 1 0 1 1 0 0 0 0 1 0 0 0 1 1 1 0 0 1 1 1 0 1 0\n",
      " 0 0 0 1 1 1 1 0 0 0 0 0 0 0 1 0 1 0 1 1 0 0 0 0 1 0 1 1 1 0 0 0 0 0 0 0 0\n",
      " 0 0 0 1 1 0 0 0 0 1 0 0 1 0 0 1 0 0 0 1 0 0 0 0 0 0 0 0 0 1 0 0 1 0]\n",
      "[0 0 0 0 0 0 0 1 1 0 0 1 1 0 1 0 1 0 0 0 1 0 1 0 0 0 0 1 0 0 0 0 1 1 0 1 0\n",
      " 0 0 1 1 1 0 1 0 0 0 1 0 1 0 1 0 1 0 1 1 0 0 0 0 1 0 1 1 1 0 0 0 0 0 0 0 0\n",
      " 0 0 0 1 1 0 0 0 0 1 0 0 1 0 0 0 0 0 1 0 0 0 0 0 0 0 1 0 0 1 0 0 1 1]\n",
      "Training accuracy: 1.0 \n",
      "Testing Accuracy: 0.8425925925925926\n"
     ]
    }
   ],
   "source": [
    "dtc.fit(x_train,y_train)\n",
    "y_pred=dtc.predict(x_test)\n",
    "print(f\"{y_pred}\\n{y_test.ravel()}\")\n",
    "\n",
    "print(f\"Training accuracy: {dtc.score(x_train,y_train)} \\nTesting Accuracy: {dtc.score(x_test,y_test)}\")"
   ]
  },
  {
   "cell_type": "code",
   "execution_count": 29,
   "id": "4ec77a38",
   "metadata": {},
   "outputs": [
    {
     "name": "stdout",
     "output_type": "stream",
     "text": [
      "[[64  9]\n",
      " [ 8 27]]\n",
      "              precision    recall  f1-score   support\n",
      "\n",
      "           0       0.89      0.88      0.88        73\n",
      "           1       0.75      0.77      0.76        35\n",
      "\n",
      "    accuracy                           0.84       108\n",
      "   macro avg       0.82      0.82      0.82       108\n",
      "weighted avg       0.84      0.84      0.84       108\n",
      "\n"
     ]
    }
   ],
   "source": [
    "cm=confusion_matrix(y_test,y_pred)\n",
    "cr=classification_report(y_test,y_pred)\n",
    "print(cm)\n",
    "print(cr)"
   ]
  },
  {
   "cell_type": "markdown",
   "id": "ee59e4cd",
   "metadata": {},
   "source": [
    "RandomForestClassifier"
   ]
  },
  {
   "cell_type": "code",
   "execution_count": 30,
   "id": "7d19f5cb",
   "metadata": {},
   "outputs": [
    {
     "name": "stdout",
     "output_type": "stream",
     "text": [
      "[0 0 0 0 0 0 0 1 1 0 0 0 0 0 1 0 1 1 0 0 1 0 1 0 0 0 0 1 0 0 0 1 1 1 0 1 0\n",
      " 0 0 1 0 1 1 0 0 1 0 1 0 0 0 1 0 1 0 1 1 0 0 0 0 1 0 0 1 1 0 0 0 0 0 0 0 0\n",
      " 0 0 0 1 1 0 0 0 0 1 0 0 0 0 0 1 0 0 0 1 0 0 0 0 0 0 1 0 0 1 0 0 1 1]\n",
      "[0 0 0 0 0 0 0 1 1 0 0 1 1 0 1 0 1 0 0 0 1 0 1 0 0 0 0 1 0 0 0 0 1 1 0 1 0\n",
      " 0 0 1 1 1 0 1 0 0 0 1 0 1 0 1 0 1 0 1 1 0 0 0 0 1 0 1 1 1 0 0 0 0 0 0 0 0\n",
      " 0 0 0 1 1 0 0 0 0 1 0 0 1 0 0 0 0 0 1 0 0 0 0 0 0 0 1 0 0 1 0 0 1 1]\n",
      "Training accuracy: 0.993006993006993 \n",
      "Testing Accuracy: 0.8703703703703703\n"
     ]
    }
   ],
   "source": [
    "rfc=RandomForestClassifier(criterion=\"entropy\",n_estimators=7,max_depth=12)\n",
    "rfc.fit(x_train,y_train)\n",
    "ypred1=rfc.predict(x_test)\n",
    "print(f\"{ypred1}\\n{y_test.ravel()}\")\n",
    "\n",
    "print(f\"Training accuracy: {rfc.score(x_train,y_train)} \\nTesting Accuracy: {rfc.score(x_test,y_test)}\")"
   ]
  },
  {
   "cell_type": "code",
   "execution_count": 31,
   "id": "1a0829c9",
   "metadata": {},
   "outputs": [
    {
     "name": "stdout",
     "output_type": "stream",
     "text": [
      "[[67  6]\n",
      " [ 8 27]]\n",
      "              precision    recall  f1-score   support\n",
      "\n",
      "           0       0.89      0.92      0.91        73\n",
      "           1       0.82      0.77      0.79        35\n",
      "\n",
      "    accuracy                           0.87       108\n",
      "   macro avg       0.86      0.84      0.85       108\n",
      "weighted avg       0.87      0.87      0.87       108\n",
      "\n"
     ]
    }
   ],
   "source": [
    "cm=confusion_matrix(y_test,ypred1)\n",
    "cr=classification_report(y_test,ypred1)\n",
    "print(cm)\n",
    "print(cr)"
   ]
  },
  {
   "cell_type": "code",
   "execution_count": 32,
   "id": "6b9a21aa",
   "metadata": {},
   "outputs": [
    {
     "data": {
      "text/plain": [
       "array([0.01892276, 0.03727231, 0.02115577, 0.01010176, 0.01742061,\n",
       "       0.0088031 , 0.01964622, 0.02766838, 0.02618229, 0.01121914,\n",
       "       0.00847548, 0.00098695, 0.01267602, 0.00971401, 0.0278678 ,\n",
       "       0.01825683, 0.02259943, 0.02008412, 0.02043855, 0.03241436,\n",
       "       0.03024904, 0.02187326, 0.01392045, 0.01243095, 0.02753802,\n",
       "       0.02889957, 0.08379518, 0.0032279 , 0.01420765, 0.02580303,\n",
       "       0.00274925, 0.00789779, 0.00553619, 0.14878218, 0.14392693,\n",
       "       0.02276001, 0.01565325, 0.0188435 ])"
      ]
     },
     "execution_count": 32,
     "metadata": {},
     "output_type": "execute_result"
    }
   ],
   "source": [
    "rfc.feature_importances_"
   ]
  },
  {
   "cell_type": "markdown",
   "id": "2e3e7aa6",
   "metadata": {},
   "source": [
    "Support Vector Classifier"
   ]
  },
  {
   "cell_type": "code",
   "execution_count": 33,
   "id": "e1207c88",
   "metadata": {},
   "outputs": [
    {
     "data": {
      "text/plain": [
       "0.9790209790209791"
      ]
     },
     "execution_count": 33,
     "metadata": {},
     "output_type": "execute_result"
    }
   ],
   "source": [
    "from sklearn.svm import SVC\n",
    "svc=SVC(kernel=\"rbf\",C=2.3,random_state=47)\n",
    "svc.fit(x_train,y_train)\n",
    "svc.score(x_train,y_train)"
   ]
  },
  {
   "cell_type": "code",
   "execution_count": 34,
   "id": "e0974ebb",
   "metadata": {},
   "outputs": [
    {
     "data": {
      "text/plain": [
       "0.9166666666666666"
      ]
     },
     "execution_count": 34,
     "metadata": {},
     "output_type": "execute_result"
    }
   ],
   "source": [
    "ypred2=svc.predict(x_test)\n",
    "ypred2,y_test.ravel()\n",
    "svc.score(x_test,y_test)"
   ]
  },
  {
   "cell_type": "code",
   "execution_count": 35,
   "id": "9b46b3b6",
   "metadata": {},
   "outputs": [
    {
     "name": "stdout",
     "output_type": "stream",
     "text": [
      "[[70  3]\n",
      " [ 6 29]]\n"
     ]
    },
    {
     "data": {
      "text/plain": [
       "<Axes: >"
      ]
     },
     "execution_count": 35,
     "metadata": {},
     "output_type": "execute_result"
    },
    {
     "data": {
      "image/png": "[encoded data removed]",
      "text/plain": [
       "<Figure size 640x480 with 2 Axes>"
      ]
     },
     "metadata": {},
     "output_type": "display_data"
    }
   ],
   "source": [
    "cm=confusion_matrix(y_test,ypred2)\n",
    "print(cm)\n",
    "sns.heatmap(cm,annot=True,cmap=\"Greens\")"
   ]
  },
  {
   "cell_type": "code",
   "execution_count": 36,
   "id": "7573b027",
   "metadata": {},
   "outputs": [
    {
     "name": "stdout",
     "output_type": "stream",
     "text": [
      "              precision    recall  f1-score   support\n",
      "\n",
      "           0       0.92      0.96      0.94        73\n",
      "           1       0.91      0.83      0.87        35\n",
      "\n",
      "    accuracy                           0.92       108\n",
      "   macro avg       0.91      0.89      0.90       108\n",
      "weighted avg       0.92      0.92      0.92       108\n",
      "\n"
     ]
    }
   ],
   "source": [
    "cr=classification_report(y_test,ypred2)\n",
    "print(cr)"
   ]
  },
  {
   "cell_type": "markdown",
   "id": "7c7b27e4",
   "metadata": {},
   "source": [
    "LogisticRegression"
   ]
  },
  {
   "cell_type": "code",
   "execution_count": 37,
   "id": "a2ca6b37",
   "metadata": {},
   "outputs": [
    {
     "name": "stdout",
     "output_type": "stream",
     "text": [
      "0.9347319347319347\n"
     ]
    }
   ],
   "source": [
    "from sklearn.linear_model import LogisticRegression\n",
    "lgr=LogisticRegression()\n",
    "lgr.fit(x_train,y_train)\n",
    "print(lgr.score(x_train,y_train))"
   ]
  },
  {
   "cell_type": "code",
   "execution_count": 38,
   "id": "4e41a4c5",
   "metadata": {},
   "outputs": [
    {
     "data": {
      "text/plain": [
       "0.8888888888888888"
      ]
     },
     "execution_count": 38,
     "metadata": {},
     "output_type": "execute_result"
    }
   ],
   "source": [
    "ypred3=lgr.predict(x_test)\n",
    "ypred3,y_test.ravel()\n",
    "lgr.score(x_test,y_test)"
   ]
  },
  {
   "cell_type": "code",
   "execution_count": 39,
   "id": "3ff67246",
   "metadata": {},
   "outputs": [
    {
     "name": "stdout",
     "output_type": "stream",
     "text": [
      "[[66  7]\n",
      " [ 5 30]]\n"
     ]
    }
   ],
   "source": [
    "cm=confusion_matrix(y_test,ypred3)\n",
    "print(cm)"
   ]
  },
  {
   "cell_type": "code",
   "execution_count": 40,
   "id": "53f4f7ee",
   "metadata": {},
   "outputs": [
    {
     "name": "stdout",
     "output_type": "stream",
     "text": [
      "              precision    recall  f1-score   support\n",
      "\n",
      "           0       0.93      0.90      0.92        73\n",
      "           1       0.81      0.86      0.83        35\n",
      "\n",
      "    accuracy                           0.89       108\n",
      "   macro avg       0.87      0.88      0.88       108\n",
      "weighted avg       0.89      0.89      0.89       108\n",
      "\n"
     ]
    }
   ],
   "source": [
    "cr=classification_report(y_test,ypred3)\n",
    "print(cr)"
   ]
  },
  {
   "cell_type": "code",
   "execution_count": 41,
   "id": "05bc5d60",
   "metadata": {},
   "outputs": [
    {
     "data": {
      "text/plain": [
       "(537, 38)"
      ]
     },
     "execution_count": 41,
     "metadata": {},
     "output_type": "execute_result"
    }
   ],
   "source": [
    "x.shape"
   ]
  },
  {
   "cell_type": "code",
   "execution_count": 42,
   "id": "c6ccf0bb",
   "metadata": {},
   "outputs": [],
   "source": [
    "from sklearn.decomposition import PCA\n",
    "pca1=PCA(n_components=\"mle\",svd_solver=\"full\")\n",
    "pca2=PCA(n_components=30)\n",
    "pca3=PCA(n_components=0.95)"
   ]
  },
  {
   "cell_type": "code",
   "execution_count": 43,
   "id": "5c856b6b",
   "metadata": {},
   "outputs": [
    {
     "data": {
      "text/plain": [
       "((537, 37),\n",
       " array([-2.1551207 , -0.98568858, -0.24491609, -0.07743342, -0.98176302,\n",
       "        -2.2770868 ,  0.4167361 ,  0.45176801, -0.74327252,  0.84787147,\n",
       "        -0.99264059,  0.44481128, -0.6054705 , -0.08377209, -0.43229872,\n",
       "         0.88567208,  0.41362354, -0.00612474, -0.04433158,  0.39112781,\n",
       "         0.68374682,  0.82850164, -0.74229462, -0.05370773,  0.27851107,\n",
       "         0.46346796,  0.79775009, -0.0249116 ,  0.24095525,  0.45069826,\n",
       "        -0.74445566,  0.414904  , -0.07693772, -0.26240824, -0.42055145,\n",
       "        -0.65808494, -0.13072092]))"
      ]
     },
     "execution_count": 43,
     "metadata": {},
     "output_type": "execute_result"
    }
   ],
   "source": [
    "x_pca1=pca1.fit_transform(x)\n",
    "x_pca1.shape,x_pca1[0]"
   ]
  },
  {
   "cell_type": "code",
   "execution_count": 44,
   "id": "423a2be7",
   "metadata": {},
   "outputs": [
    {
     "data": {
      "text/plain": [
       "((537, 30),\n",
       " array([-2.1551207 , -0.98568858, -0.24491609, -0.07743342, -0.98176302,\n",
       "        -2.2770868 ,  0.4167361 ,  0.45176801, -0.74327252,  0.84787147,\n",
       "        -0.99264059,  0.44481128, -0.6054705 , -0.08377209, -0.43229872,\n",
       "         0.88567208,  0.41362354, -0.00612474, -0.04433158,  0.39112781,\n",
       "         0.68374682,  0.82850164, -0.74229462, -0.05370773,  0.27851107,\n",
       "         0.46346796,  0.79775009, -0.0249116 ,  0.24095525,  0.45069826]))"
      ]
     },
     "execution_count": 44,
     "metadata": {},
     "output_type": "execute_result"
    }
   ],
   "source": [
    "x_pca2=pca2.fit_transform(x)\n",
    "x_pca2.shape,x_pca2[0]"
   ]
  },
  {
   "cell_type": "code",
   "execution_count": 45,
   "id": "6ceff832",
   "metadata": {},
   "outputs": [
    {
     "data": {
      "text/plain": [
       "((537, 32),\n",
       " array([-2.1551207 , -0.98568858, -0.24491609, -0.07743342, -0.98176302,\n",
       "        -2.2770868 ,  0.4167361 ,  0.45176801, -0.74327252,  0.84787147,\n",
       "        -0.99264059,  0.44481128, -0.6054705 , -0.08377209, -0.43229872,\n",
       "         0.88567208,  0.41362354, -0.00612474, -0.04433158,  0.39112781,\n",
       "         0.68374682,  0.82850164, -0.74229462, -0.05370773,  0.27851107,\n",
       "         0.46346796,  0.79775009, -0.0249116 ,  0.24095525,  0.45069826,\n",
       "        -0.74445566,  0.414904  ]))"
      ]
     },
     "execution_count": 45,
     "metadata": {},
     "output_type": "execute_result"
    }
   ],
   "source": [
    "x_pca3=pca3.fit_transform(x)\n",
    "x_pca3.shape,x_pca3[0]"
   ]
  },
  {
   "cell_type": "code",
   "execution_count": 46,
   "id": "e15c4c74",
   "metadata": {},
   "outputs": [
    {
     "data": {
      "text/plain": [
       "((429, 37), (108, 37), (429, 1), (108, 1))"
      ]
     },
     "execution_count": 46,
     "metadata": {},
     "output_type": "execute_result"
    }
   ],
   "source": [
    "x1_train,x1_test,y1_train,y1_test=train_test_split(x_pca1,y,train_size=0.8,random_state=47,stratify=y)\n",
    "x1_train.shape,x1_test.shape,y1_train.shape,y1_test.shape"
   ]
  },
  {
   "cell_type": "markdown",
   "id": "ae8a37dd",
   "metadata": {},
   "source": [
    "PCA1 Algorithm"
   ]
  },
  {
   "cell_type": "code",
   "execution_count": 47,
   "id": "5787a3ac",
   "metadata": {},
   "outputs": [],
   "source": [
    "svc1=SVC(kernel=\"rbf\",C=2)"
   ]
  },
  {
   "cell_type": "code",
   "execution_count": 48,
   "id": "7be6d2ac",
   "metadata": {},
   "outputs": [
    {
     "data": {
      "text/plain": [
       "0.9790209790209791"
      ]
     },
     "execution_count": 48,
     "metadata": {},
     "output_type": "execute_result"
    }
   ],
   "source": [
    "svc1.fit(x1_train,y1_train)\n",
    "svc1.score(x1_train,y1_train)"
   ]
  },
  {
   "cell_type": "code",
   "execution_count": 49,
   "id": "5166deaa",
   "metadata": {},
   "outputs": [
    {
     "data": {
      "text/plain": [
       "0.9166666666666666"
      ]
     },
     "execution_count": 49,
     "metadata": {},
     "output_type": "execute_result"
    }
   ],
   "source": [
    "y1_pred=svc1.predict(x1_test)\n",
    "svc1.score(x1_test,y1_test)"
   ]
  },
  {
   "cell_type": "code",
   "execution_count": 50,
   "id": "ab8fad8f",
   "metadata": {},
   "outputs": [
    {
     "name": "stdout",
     "output_type": "stream",
     "text": [
      "[[70  6]\n",
      " [ 3 29]]\n"
     ]
    }
   ],
   "source": [
    "cm1=confusion_matrix(y1_pred,y1_test)\n",
    "print(cm1)"
   ]
  },
  {
   "cell_type": "code",
   "execution_count": 51,
   "id": "21ef4052",
   "metadata": {},
   "outputs": [
    {
     "data": {
      "text/plain": [
       "<Axes: >"
      ]
     },
     "execution_count": 51,
     "metadata": {},
     "output_type": "execute_result"
    },
    {
     "data": {
      "image/png": "[encoded data removed]",
      "text/plain": [
       "<Figure size 640x480 with 2 Axes>"
      ]
     },
     "metadata": {},
     "output_type": "display_data"
    }
   ],
   "source": [
    "sns.heatmap(cm1,annot=True,cmap=\"Blues\")"
   ]
  },
  {
   "cell_type": "code",
   "execution_count": 52,
   "id": "0c1357e5",
   "metadata": {},
   "outputs": [
    {
     "name": "stdout",
     "output_type": "stream",
     "text": [
      "              precision    recall  f1-score   support\n",
      "\n",
      "           0       0.92      0.96      0.94        73\n",
      "           1       0.91      0.83      0.87        35\n",
      "\n",
      "    accuracy                           0.92       108\n",
      "   macro avg       0.91      0.89      0.90       108\n",
      "weighted avg       0.92      0.92      0.92       108\n",
      "\n"
     ]
    }
   ],
   "source": [
    "cr1=classification_report(y1_test,y1_pred)\n",
    "print(cr1)"
   ]
  },
  {
   "cell_type": "code",
   "execution_count": 53,
   "id": "6a89f4b3",
   "metadata": {},
   "outputs": [
    {
     "data": {
      "text/plain": [
       "0.965034965034965"
      ]
     },
     "execution_count": 53,
     "metadata": {},
     "output_type": "execute_result"
    }
   ],
   "source": [
    "rfc2=RandomForestClassifier(n_estimators=4,criterion=\"entropy\",max_depth=15,random_state=47)\n",
    "rfc2.fit(x1_train,y1_train)\n",
    "rfc2.score(x1_train,y1_train)"
   ]
  },
  {
   "cell_type": "code",
   "execution_count": 54,
   "id": "521d7694",
   "metadata": {},
   "outputs": [
    {
     "data": {
      "text/plain": [
       "0.8240740740740741"
      ]
     },
     "execution_count": 54,
     "metadata": {},
     "output_type": "execute_result"
    }
   ],
   "source": [
    "y1_pred=rfc2.predict(x1_test)\n",
    "rfc2.score(x1_test,y1_test)"
   ]
  },
  {
   "cell_type": "code",
   "execution_count": 55,
   "id": "e2b3c4fa",
   "metadata": {},
   "outputs": [
    {
     "data": {
      "text/plain": [
       "0.9347319347319347"
      ]
     },
     "execution_count": 55,
     "metadata": {},
     "output_type": "execute_result"
    }
   ],
   "source": [
    "lgr2=LogisticRegression()\n",
    "lgr2.fit(x1_train,y1_train)\n",
    "lgr2.score(x1_train,y1_train)"
   ]
  },
  {
   "cell_type": "code",
   "execution_count": 56,
   "id": "3a5d6273",
   "metadata": {},
   "outputs": [
    {
     "data": {
      "text/plain": [
       "0.8888888888888888"
      ]
     },
     "execution_count": 56,
     "metadata": {},
     "output_type": "execute_result"
    }
   ],
   "source": [
    "lgr2.score(x1_test,y1_test)"
   ]
  },
  {
   "cell_type": "code",
   "execution_count": 57,
   "id": "1ad47be2",
   "metadata": {},
   "outputs": [
    {
     "data": {
      "text/plain": [
       "0.8624708624708625"
      ]
     },
     "execution_count": 57,
     "metadata": {},
     "output_type": "execute_result"
    }
   ],
   "source": [
    "from sklearn.naive_bayes import GaussianNB\n",
    "gnb=GaussianNB()\n",
    "gnb.fit(x1_train,y1_train)\n",
    "gnb.score(x1_train,y1_train)"
   ]
  },
  {
   "cell_type": "code",
   "execution_count": 58,
   "id": "53ffbdc7",
   "metadata": {},
   "outputs": [
    {
     "data": {
      "text/plain": [
       "0.8703703703703703"
      ]
     },
     "execution_count": 58,
     "metadata": {},
     "output_type": "execute_result"
    }
   ],
   "source": [
    "y1_pred=gnb.predict(x1_test)\n",
    "gnb.score(x1_test,y1_test)"
   ]
  },
  {
   "cell_type": "code",
   "execution_count": 59,
   "id": "e7d0c8fc",
   "metadata": {},
   "outputs": [
    {
     "name": "stdout",
     "output_type": "stream",
     "text": [
      "[[66  7]\n",
      " [ 7 28]]\n"
     ]
    }
   ],
   "source": [
    "cm1=confusion_matrix(y1_test,y1_pred)\n",
    "print(cm1)"
   ]
  },
  {
   "cell_type": "markdown",
   "id": "15d711a5",
   "metadata": {},
   "source": [
    "PCA 2"
   ]
  },
  {
   "cell_type": "code",
   "execution_count": 60,
   "id": "f4049a12",
   "metadata": {},
   "outputs": [
    {
     "data": {
      "text/plain": [
       "((429, 30), (108, 30), (429, 1), (108, 1))"
      ]
     },
     "execution_count": 60,
     "metadata": {},
     "output_type": "execute_result"
    }
   ],
   "source": [
    "x2_train,x2_test,y2_train,y2_test=train_test_split(x_pca2,y,train_size=0.8,random_state=47,stratify=y)\n",
    "x2_train.shape,x2_test.shape,y2_train.shape,y2_test.shape"
   ]
  },
  {
   "cell_type": "code",
   "execution_count": 61,
   "id": "cd92923f",
   "metadata": {},
   "outputs": [
    {
     "data": {
      "text/plain": [
       "0.9673659673659674"
      ]
     },
     "execution_count": 61,
     "metadata": {},
     "output_type": "execute_result"
    }
   ],
   "source": [
    "svc3=SVC(kernel=\"rbf\",C=1.5)\n",
    "svc3.fit(x2_train,y2_train)\n",
    "svc3.score(x2_train,y2_train)"
   ]
  },
  {
   "cell_type": "code",
   "execution_count": 62,
   "id": "663e16ba",
   "metadata": {},
   "outputs": [
    {
     "data": {
      "text/plain": [
       "0.9074074074074074"
      ]
     },
     "execution_count": 62,
     "metadata": {},
     "output_type": "execute_result"
    }
   ],
   "source": [
    "y3_pred=svc3.predict(x2_test)\n",
    "svc3.score(x2_test,y2_test)"
   ]
  },
  {
   "cell_type": "code",
   "execution_count": 63,
   "id": "655c7766",
   "metadata": {},
   "outputs": [
    {
     "name": "stdout",
     "output_type": "stream",
     "text": [
      "[[69  6]\n",
      " [ 4 29]]\n"
     ]
    }
   ],
   "source": [
    "cm2=confusion_matrix(y3_pred,y2_test)\n",
    "print(cm2)"
   ]
  },
  {
   "cell_type": "code",
   "execution_count": 64,
   "id": "92ac1e0a",
   "metadata": {},
   "outputs": [
    {
     "name": "stdout",
     "output_type": "stream",
     "text": [
      "              precision    recall  f1-score   support\n",
      "\n",
      "           0       0.92      0.95      0.93        73\n",
      "           1       0.88      0.83      0.85        35\n",
      "\n",
      "    accuracy                           0.91       108\n",
      "   macro avg       0.90      0.89      0.89       108\n",
      "weighted avg       0.91      0.91      0.91       108\n",
      "\n"
     ]
    }
   ],
   "source": [
    "cr2=classification_report(y2_test,y3_pred)\n",
    "print(cr2)"
   ]
  },
  {
   "cell_type": "markdown",
   "id": "3a1e585b",
   "metadata": {},
   "source": [
    "PCA3"
   ]
  },
  {
   "cell_type": "code",
   "execution_count": 65,
   "id": "d0436482",
   "metadata": {},
   "outputs": [
    {
     "data": {
      "text/plain": [
       "((429, 32), (108, 32), (429, 1), (108, 1))"
      ]
     },
     "execution_count": 65,
     "metadata": {},
     "output_type": "execute_result"
    }
   ],
   "source": [
    "x3_train,x3_test,y3_train,y3_test=train_test_split(x_pca3,y,train_size=0.8,random_state=47,stratify=y)\n",
    "x3_train.shape,x3_test.shape,y3_train.shape,y3_test.shape"
   ]
  },
  {
   "cell_type": "code",
   "execution_count": 66,
   "id": "4c1ae137",
   "metadata": {},
   "outputs": [
    {
     "data": {
      "text/plain": [
       "0.9440559440559441"
      ]
     },
     "execution_count": 66,
     "metadata": {},
     "output_type": "execute_result"
    }
   ],
   "source": [
    "svc4=SVC(kernel=\"rbf\",C=0.6)\n",
    "svc4.fit(x3_train,y3_train)\n",
    "svc4.score(x3_train,y3_train)"
   ]
  },
  {
   "cell_type": "code",
   "execution_count": 67,
   "id": "fd50ba33",
   "metadata": {},
   "outputs": [
    {
     "data": {
      "text/plain": [
       "0.9074074074074074"
      ]
     },
     "execution_count": 67,
     "metadata": {},
     "output_type": "execute_result"
    }
   ],
   "source": [
    "y3_pred=svc4.predict(x3_test)\n",
    "svc4.score(x3_test,y3_test)"
   ]
  },
  {
   "cell_type": "code",
   "execution_count": 68,
   "id": "3bfa851e",
   "metadata": {},
   "outputs": [
    {
     "name": "stdout",
     "output_type": "stream",
     "text": [
      "[[70  7]\n",
      " [ 3 28]]\n"
     ]
    }
   ],
   "source": [
    "cm2=confusion_matrix(y3_pred,y3_test)\n",
    "print(cm2)"
   ]
  },
  {
   "cell_type": "code",
   "execution_count": 69,
   "id": "398b0995",
   "metadata": {},
   "outputs": [
    {
     "name": "stdout",
     "output_type": "stream",
     "text": [
      "              precision    recall  f1-score   support\n",
      "\n",
      "           0       0.91      0.96      0.93        73\n",
      "           1       0.90      0.80      0.85        35\n",
      "\n",
      "    accuracy                           0.91       108\n",
      "   macro avg       0.91      0.88      0.89       108\n",
      "weighted avg       0.91      0.91      0.91       108\n",
      "\n"
     ]
    }
   ],
   "source": [
    "cr2=classification_report(y3_test,y3_pred)\n",
    "print(cr2)"
   ]
  },
  {
   "cell_type": "code",
   "execution_count": 70,
   "id": "7f5498d8",
   "metadata": {},
   "outputs": [
    {
     "data": {
      "text/plain": [
       "<matplotlib.legend.Legend at 0x1fea86b2010>"
      ]
     },
     "execution_count": 70,
     "metadata": {},
     "output_type": "execute_result"
    },
    {
     "data": {
      "image/png": "[encoded data removed]",
      "text/plain": [
       "<Figure size 640x480 with 1 Axes>"
      ]
     },
     "metadata": {},
     "output_type": "display_data"
    }
   ],
   "source": [
    "train_acc_svc=[svc.score(x_train,y_train),svc1.score(x1_train,y1_train),svc3.score(x2_train,y2_train),svc4.score(x3_train,y3_train)]\n",
    "test_acc_svc=[svc.score(x_test,y_test),svc1.score(x1_test,y1_test),svc3.score(x2_test,y2_test),svc4.score(x3_test,y3_test)]\n",
    "plt.plot(train_acc_svc,label=\"Train accuracy svc\")\n",
    "plt.plot(test_acc_svc,label=\"Test accuracy svc\")\n",
    "plt.legend()"
   ]
  },
  {
   "cell_type": "code",
   "execution_count": 71,
   "id": "17cf85bf",
   "metadata": {},
   "outputs": [
    {
     "name": "stdout",
     "output_type": "stream",
     "text": [
      "[[70  3]\n",
      " [ 6 29]]\n"
     ]
    },
    {
     "data": {
      "text/plain": [
       "0.958904109589041"
      ]
     },
     "execution_count": 71,
     "metadata": {},
     "output_type": "execute_result"
    }
   ],
   "source": [
    "cm=confusion_matrix(y_test,ypred2)\n",
    "print(cm)\n",
    "svc_precision=cm[0][0]/(cm[0][0]+cm[0][1])\n",
    "svc_precision"
   ]
  },
  {
   "cell_type": "code",
   "execution_count": 72,
   "id": "918f8782",
   "metadata": {},
   "outputs": [
    {
     "data": {
      "text/plain": [
       "0.9210526315789473"
      ]
     },
     "execution_count": 72,
     "metadata": {},
     "output_type": "execute_result"
    }
   ],
   "source": [
    "svc_recall=cm[0][0]/(cm[0][0]+cm[1][0])\n",
    "svc_recall"
   ]
  },
  {
   "cell_type": "code",
   "execution_count": null,
   "id": "5f280128",
   "metadata": {},
   "outputs": [],
   "source": []
  },
  {
   "cell_type": "markdown",
   "id": "19406eac",
   "metadata": {},
   "source": [
    "# Final Model"
   ]
  },
  {
   "cell_type": "code",
   "execution_count": 73,
   "id": "42b64af0",
   "metadata": {},
   "outputs": [
    {
     "name": "stdout",
     "output_type": "stream",
     "text": [
      "Original number of features : 38\n",
      "Extracted features by PCA : 37\n",
      "------------------------------------------------------------\n",
      "Training Accuracy :0.9790209790209791\n",
      "Testing Accuracy :0.9166666666666666\n",
      "------------------------------------------------------------\n",
      "Classification report: \n",
      "              precision    recall  f1-score   support\n",
      "\n",
      "           0       0.92      0.96      0.94        73\n",
      "           1       0.91      0.83      0.87        35\n",
      "\n",
      "    accuracy                           0.92       108\n",
      "   macro avg       0.91      0.89      0.90       108\n",
      "weighted avg       0.92      0.92      0.92       108\n",
      "\n",
      "------------------------------------------------------------\n"
     ]
    },
    {
     "data": {
      "image/png": "[encoded data removed]",
      "text/plain": [
       "<Figure size 640x480 with 2 Axes>"
      ]
     },
     "metadata": {},
     "output_type": "display_data"
    }
   ],
   "source": [
    "from sklearn.decomposition import PCA\n",
    "pca1=PCA(n_components=\"mle\",svd_solver=\"full\")\n",
    "x_pca1=pca1.fit_transform(x)\n",
    "print(f\"Original number of features : {x.shape[1]}\")\n",
    "x1_train,x1_test,y1_train,y1_test=train_test_split(x_pca1,y,train_size=0.8,random_state=47,stratify=y)\n",
    "print(f\"Extracted features by PCA : {x1_train.shape[1]}\")\n",
    "print(\"-\"*60)\n",
    "\n",
    "svc1=SVC(kernel=\"rbf\",C=2)\n",
    "svc1.fit(x1_train,y1_train)\n",
    "y1_pred=svc1.predict(x1_test)\n",
    "\n",
    "print(f\"Training Accuracy :{svc1.score(x1_train,y1_train)}\\n\"\n",
    "      f\"Testing Accuracy :{svc1.score(x1_test,y1_test)}\"\n",
    "      )\n",
    "print(\"-\"*60)\n",
    "\n",
    "sns.heatmap(cm1,annot=True,cmap=\"Blues\")\n",
    "cr1=classification_report(y1_test,y1_pred)\n",
    "print(f\"Classification report: \\n{cr1}\")\n",
    "print(\"-\"*60)\n",
    "\n",
    "cm1=confusion_matrix(y1_pred,y1_test)\n",
    "\n"
   ]
  },
  {
   "cell_type": "code",
   "execution_count": null,
   "id": "eb37a37c",
   "metadata": {},
   "outputs": [],
   "source": []
  },
  {
   "cell_type": "markdown",
   "id": "17bfd664",
   "metadata": {},
   "source": [
    "# Model"
   ]
  },
  {
   "cell_type": "code",
   "execution_count": 74,
   "id": "8137ab2e",
   "metadata": {},
   "outputs": [
    {
     "name": "stdout",
     "output_type": "stream",
     "text": [
      "DecisionTreeClassifier\n",
      "Fitting 5 folds for each of 8 candidates, totalling 40 fits\n",
      "LogisticRegression\n",
      "Fitting 5 folds for each of 4 candidates, totalling 20 fits\n",
      "GaussianNB\n",
      "Fitting 5 folds for each of 1 candidates, totalling 5 fits\n",
      "RandomForestClassifier\n",
      "Fitting 5 folds for each of 48 candidates, totalling 240 fits\n",
      "SVC\n",
      "Fitting 5 folds for each of 27 candidates, totalling 135 fits\n"
     ]
    }
   ],
   "source": [
    "from sklearn.model_selection import GridSearchCV\n",
    "from sklearn.linear_model import LogisticRegression\n",
    "from sklearn.naive_bayes import GaussianNB\n",
    "from sklearn.tree import DecisionTreeClassifier\n",
    "from sklearn.ensemble import RandomForestClassifier\n",
    "from sklearn.svm import SVC\n",
    "\n",
    "model={\n",
    "    \"DecisionTreeClassifier\":DecisionTreeClassifier(),\n",
    "    \"LogisticRegression\":LogisticRegression(),\n",
    "    \"GaussianNB\":GaussianNB(),\n",
    "    \"RandomForestClassifier\":RandomForestClassifier(),\n",
    "    \"SVC\":SVC(),\n",
    "}\n",
    "\n",
    "param_grids={\n",
    "    \"DecisionTreeClassifier\":{\n",
    "        \"criterion\":[\"gini\",\"entropy\"],\n",
    "        \"max_depth\":[10,12,15,17],\n",
    "    },\n",
    "    \"LogisticRegression\":{\n",
    "       \"max_iter\":[100,200,250,300], \n",
    "    },\n",
    "    \"GaussianNB\":{},\n",
    "    \"RandomForestClassifier\":{\n",
    "        \"criterion\":[\"gini\",\"entropy\"],\n",
    "        \"max_depth\":[10,12,15,17],\n",
    "        \"n_estimators\":[3,5,7,10,12,15],\n",
    "    },\n",
    "    \"SVC\":{\n",
    "        \"kernel\":[\"poly\",\"sigmoid\",\"rbf\"],\n",
    "        \"C\":[1,1.3,1.5,1.7,2,2.3,2.5,2.7,3],\n",
    "    }\n",
    "}\n",
    "models=pd.DataFrame(columns=[\"model\",\"best_paramter\",\"Accuracy\"])\n",
    "i=0\n",
    "for name in model:\n",
    "    print(name)\n",
    "    gsc=GridSearchCV(estimator=model[name],param_grid=param_grids[name],cv=5,verbose=1,return_train_score=True)\n",
    "    gsc.fit(x1_train,y1_train)\n",
    "    models.loc[i]=[name,gsc.best_params_,gsc.best_score_]\n",
    "    i=i+1"
   ]
  },
  {
   "cell_type": "code",
   "execution_count": 75,
   "id": "341a1684",
   "metadata": {},
   "outputs": [
    {
     "data": {
      "text/html": [
       "<div>\n",
       "<style scoped>\n",
       "    .dataframe tbody tr th:only-of-type {\n",
       "        vertical-align: middle;\n",
       "    }\n",
       "\n",
       "    .dataframe tbody tr th {\n",
       "        vertical-align: top;\n",
       "    }\n",
       "\n",
       "    .dataframe thead th {\n",
       "        text-align: right;\n",
       "    }\n",
       "</style>\n",
       "<table border=\"1\" class=\"dataframe\">\n",
       "  <thead>\n",
       "    <tr style=\"text-align: right;\">\n",
       "      <th></th>\n",
       "      <th>model</th>\n",
       "      <th>best_paramter</th>\n",
       "      <th>Accuracy</th>\n",
       "    </tr>\n",
       "  </thead>\n",
       "  <tbody>\n",
       "    <tr>\n",
       "      <th>0</th>\n",
       "      <td>DecisionTreeClassifier</td>\n",
       "      <td>{'criterion': 'entropy', 'max_depth': 17}</td>\n",
       "      <td>0.855486</td>\n",
       "    </tr>\n",
       "    <tr>\n",
       "      <th>1</th>\n",
       "      <td>LogisticRegression</td>\n",
       "      <td>{'max_iter': 100}</td>\n",
       "      <td>0.874145</td>\n",
       "    </tr>\n",
       "    <tr>\n",
       "      <th>2</th>\n",
       "      <td>GaussianNB</td>\n",
       "      <td>{}</td>\n",
       "      <td>0.850862</td>\n",
       "    </tr>\n",
       "    <tr>\n",
       "      <th>3</th>\n",
       "      <td>RandomForestClassifier</td>\n",
       "      <td>{'criterion': 'entropy', 'max_depth': 15, 'n_e...</td>\n",
       "      <td>0.869576</td>\n",
       "    </tr>\n",
       "    <tr>\n",
       "      <th>4</th>\n",
       "      <td>SVC</td>\n",
       "      <td>{'C': 2, 'kernel': 'sigmoid'}</td>\n",
       "      <td>0.899781</td>\n",
       "    </tr>\n",
       "  </tbody>\n",
       "</table>\n",
       "</div>"
      ],
      "text/plain": [
       "                    model                                      best_paramter  \\\n",
       "0  DecisionTreeClassifier          {'criterion': 'entropy', 'max_depth': 17}   \n",
       "1      LogisticRegression                                  {'max_iter': 100}   \n",
       "2              GaussianNB                                                 {}   \n",
       "3  RandomForestClassifier  {'criterion': 'entropy', 'max_depth': 15, 'n_e...   \n",
       "4                     SVC                      {'C': 2, 'kernel': 'sigmoid'}   \n",
       "\n",
       "   Accuracy  \n",
       "0  0.855486  \n",
       "1  0.874145  \n",
       "2  0.850862  \n",
       "3  0.869576  \n",
       "4  0.899781  "
      ]
     },
     "execution_count": 75,
     "metadata": {},
     "output_type": "execute_result"
    }
   ],
   "source": [
    "models"
   ]
  },
  {
   "cell_type": "code",
   "execution_count": 76,
   "id": "5793f137",
   "metadata": {},
   "outputs": [
    {
     "name": "stdout",
     "output_type": "stream",
     "text": [
      "DecisionTreeClassifier\n",
      "Fitting 5 folds for each of 8 candidates, totalling 40 fits\n",
      "LogisticRegression\n",
      "Fitting 5 folds for each of 4 candidates, totalling 20 fits\n",
      "GaussianNB\n",
      "Fitting 5 folds for each of 1 candidates, totalling 5 fits\n",
      "RandomForestClassifier\n",
      "Fitting 5 folds for each of 48 candidates, totalling 240 fits\n",
      "SVC\n",
      "Fitting 5 folds for each of 27 candidates, totalling 135 fits\n"
     ]
    }
   ],
   "source": [
    "models1=pd.DataFrame(columns=[\"model\",\"best_paramter\",\"Accuracy\"])\n",
    "i=0\n",
    "for name in model:\n",
    "    print(name)\n",
    "    gsc=GridSearchCV(estimator=model[name],param_grid=param_grids[name],cv=5,verbose=1,return_train_score=True)\n",
    "    gsc.fit(x2_train,y2_train)\n",
    "    models1.loc[i]=[name,gsc.best_params_,gsc.best_score_]\n",
    "    i=i+1"
   ]
  },
  {
   "cell_type": "code",
   "execution_count": 77,
   "id": "49726ce0",
   "metadata": {},
   "outputs": [
    {
     "data": {
      "text/html": [
       "<div>\n",
       "<style scoped>\n",
       "    .dataframe tbody tr th:only-of-type {\n",
       "        vertical-align: middle;\n",
       "    }\n",
       "\n",
       "    .dataframe tbody tr th {\n",
       "        vertical-align: top;\n",
       "    }\n",
       "\n",
       "    .dataframe thead th {\n",
       "        text-align: right;\n",
       "    }\n",
       "</style>\n",
       "<table border=\"1\" class=\"dataframe\">\n",
       "  <thead>\n",
       "    <tr style=\"text-align: right;\">\n",
       "      <th></th>\n",
       "      <th>model</th>\n",
       "      <th>best_paramter</th>\n",
       "      <th>Accuracy</th>\n",
       "    </tr>\n",
       "  </thead>\n",
       "  <tbody>\n",
       "    <tr>\n",
       "      <th>0</th>\n",
       "      <td>DecisionTreeClassifier</td>\n",
       "      <td>{'criterion': 'entropy', 'max_depth': 12}</td>\n",
       "      <td>0.855458</td>\n",
       "    </tr>\n",
       "    <tr>\n",
       "      <th>1</th>\n",
       "      <td>LogisticRegression</td>\n",
       "      <td>{'max_iter': 100}</td>\n",
       "      <td>0.892750</td>\n",
       "    </tr>\n",
       "    <tr>\n",
       "      <th>2</th>\n",
       "      <td>GaussianNB</td>\n",
       "      <td>{}</td>\n",
       "      <td>0.841532</td>\n",
       "    </tr>\n",
       "    <tr>\n",
       "      <th>3</th>\n",
       "      <td>RandomForestClassifier</td>\n",
       "      <td>{'criterion': 'gini', 'max_depth': 15, 'n_esti...</td>\n",
       "      <td>0.857921</td>\n",
       "    </tr>\n",
       "    <tr>\n",
       "      <th>4</th>\n",
       "      <td>SVC</td>\n",
       "      <td>{'C': 1.3, 'kernel': 'sigmoid'}</td>\n",
       "      <td>0.899781</td>\n",
       "    </tr>\n",
       "  </tbody>\n",
       "</table>\n",
       "</div>"
      ],
      "text/plain": [
       "                    model                                      best_paramter  \\\n",
       "0  DecisionTreeClassifier          {'criterion': 'entropy', 'max_depth': 12}   \n",
       "1      LogisticRegression                                  {'max_iter': 100}   \n",
       "2              GaussianNB                                                 {}   \n",
       "3  RandomForestClassifier  {'criterion': 'gini', 'max_depth': 15, 'n_esti...   \n",
       "4                     SVC                    {'C': 1.3, 'kernel': 'sigmoid'}   \n",
       "\n",
       "   Accuracy  \n",
       "0  0.855458  \n",
       "1  0.892750  \n",
       "2  0.841532  \n",
       "3  0.857921  \n",
       "4  0.899781  "
      ]
     },
     "execution_count": 77,
     "metadata": {},
     "output_type": "execute_result"
    }
   ],
   "source": [
    "models1"
   ]
  },
  {
   "cell_type": "code",
   "execution_count": 78,
   "id": "eb1dfde6",
   "metadata": {},
   "outputs": [
    {
     "name": "stdout",
     "output_type": "stream",
     "text": [
      "DecisionTreeClassifier\n",
      "Fitting 5 folds for each of 8 candidates, totalling 40 fits\n",
      "LogisticRegression\n",
      "Fitting 5 folds for each of 4 candidates, totalling 20 fits\n",
      "GaussianNB\n",
      "Fitting 5 folds for each of 1 candidates, totalling 5 fits\n",
      "RandomForestClassifier\n",
      "Fitting 5 folds for each of 48 candidates, totalling 240 fits\n",
      "SVC\n",
      "Fitting 5 folds for each of 27 candidates, totalling 135 fits\n"
     ]
    }
   ],
   "source": [
    "models2=pd.DataFrame(columns=[\"model\",\"best_paramter\",\"Accuracy\"])\n",
    "i=0\n",
    "for name in model:\n",
    "    print(name)\n",
    "    gsc=GridSearchCV(estimator=model[name],param_grid=param_grids[name],cv=5,verbose=1,return_train_score=True)\n",
    "    gsc.fit(x3_train,y3_train)\n",
    "    models2.loc[i]=[name,gsc.best_params_,gsc.best_score_]\n",
    "    i=i+1"
   ]
  },
  {
   "cell_type": "code",
   "execution_count": 79,
   "id": "91a9f080",
   "metadata": {},
   "outputs": [
    {
     "data": {
      "text/html": [
       "<div>\n",
       "<style scoped>\n",
       "    .dataframe tbody tr th:only-of-type {\n",
       "        vertical-align: middle;\n",
       "    }\n",
       "\n",
       "    .dataframe tbody tr th {\n",
       "        vertical-align: top;\n",
       "    }\n",
       "\n",
       "    .dataframe thead th {\n",
       "        text-align: right;\n",
       "    }\n",
       "</style>\n",
       "<table border=\"1\" class=\"dataframe\">\n",
       "  <thead>\n",
       "    <tr style=\"text-align: right;\">\n",
       "      <th></th>\n",
       "      <th>model</th>\n",
       "      <th>best_paramter</th>\n",
       "      <th>Accuracy</th>\n",
       "    </tr>\n",
       "  </thead>\n",
       "  <tbody>\n",
       "    <tr>\n",
       "      <th>0</th>\n",
       "      <td>DecisionTreeClassifier</td>\n",
       "      <td>{'criterion': 'entropy', 'max_depth': 15}</td>\n",
       "      <td>0.867059</td>\n",
       "    </tr>\n",
       "    <tr>\n",
       "      <th>1</th>\n",
       "      <td>LogisticRegression</td>\n",
       "      <td>{'max_iter': 100}</td>\n",
       "      <td>0.888071</td>\n",
       "    </tr>\n",
       "    <tr>\n",
       "      <th>2</th>\n",
       "      <td>GaussianNB</td>\n",
       "      <td>{}</td>\n",
       "      <td>0.836881</td>\n",
       "    </tr>\n",
       "    <tr>\n",
       "      <th>3</th>\n",
       "      <td>RandomForestClassifier</td>\n",
       "      <td>{'criterion': 'gini', 'max_depth': 17, 'n_esti...</td>\n",
       "      <td>0.867223</td>\n",
       "    </tr>\n",
       "    <tr>\n",
       "      <th>4</th>\n",
       "      <td>SVC</td>\n",
       "      <td>{'C': 1.3, 'kernel': 'sigmoid'}</td>\n",
       "      <td>0.897456</td>\n",
       "    </tr>\n",
       "  </tbody>\n",
       "</table>\n",
       "</div>"
      ],
      "text/plain": [
       "                    model                                      best_paramter  \\\n",
       "0  DecisionTreeClassifier          {'criterion': 'entropy', 'max_depth': 15}   \n",
       "1      LogisticRegression                                  {'max_iter': 100}   \n",
       "2              GaussianNB                                                 {}   \n",
       "3  RandomForestClassifier  {'criterion': 'gini', 'max_depth': 17, 'n_esti...   \n",
       "4                     SVC                    {'C': 1.3, 'kernel': 'sigmoid'}   \n",
       "\n",
       "   Accuracy  \n",
       "0  0.867059  \n",
       "1  0.888071  \n",
       "2  0.836881  \n",
       "3  0.867223  \n",
       "4  0.897456  "
      ]
     },
     "execution_count": 79,
     "metadata": {},
     "output_type": "execute_result"
    }
   ],
   "source": [
    "models2"
   ]
  },
  {
   "cell_type": "code",
   "execution_count": 80,
   "id": "9018fd15",
   "metadata": {},
   "outputs": [
    {
     "data": {
      "text/plain": [
       "(0.9790209790209791, 0.9166666666666666)"
      ]
     },
     "execution_count": 80,
     "metadata": {},
     "output_type": "execute_result"
    }
   ],
   "source": [
    "final_svc=SVC(kernel=\"rbf\",C=2)\n",
    "final_svc.fit(x1_train,y1_train)\n",
    "y_pred=final_svc.predict(x1_test)\n",
    "final_svc.score(x1_train,y1_train),final_svc.score(x1_test,y1_test)\n"
   ]
  },
  {
   "cell_type": "code",
   "execution_count": 81,
   "id": "712608bf",
   "metadata": {},
   "outputs": [
    {
     "name": "stdout",
     "output_type": "stream",
     "text": [
      "              precision    recall  f1-score   support\n",
      "\n",
      "           0       0.92      0.96      0.94        73\n",
      "           1       0.91      0.83      0.87        35\n",
      "\n",
      "    accuracy                           0.92       108\n",
      "   macro avg       0.91      0.89      0.90       108\n",
      "weighted avg       0.92      0.92      0.92       108\n",
      "\n"
     ]
    }
   ],
   "source": [
    "cr=classification_report(y1_test,y_pred)\n",
    "print(cr)"
   ]
  },
  {
   "cell_type": "code",
   "execution_count": 82,
   "id": "047df572",
   "metadata": {},
   "outputs": [
    {
     "name": "stdout",
     "output_type": "stream",
     "text": [
      "[[70  3]\n",
      " [ 6 29]]\n"
     ]
    }
   ],
   "source": [
    "cm=confusion_matrix(y1_test,y_pred)\n",
    "print(cm)"
   ]
  },
  {
   "cell_type": "code",
   "execution_count": 83,
   "id": "7914cd96",
   "metadata": {},
   "outputs": [],
   "source": [
    "import joblib"
   ]
  },
  {
   "cell_type": "code",
   "execution_count": null,
   "id": "43c37f49",
   "metadata": {},
   "outputs": [
    {
     "data": {
      "text/plain": [
       "['pcos_model.pkl']"
      ]
     },
     "execution_count": 84,
     "metadata": {},
     "output_type": "execute_result"
    }
   ],
   "source": [
    "#this only loads the model with parameters like weight and bias but does not perform preprocessing to perform so we must make a pipeline\n",
    "joblib.dump(final_svc,\"pcos_model.pkl\")"
   ]
  },
  {
   "cell_type": "code",
   "execution_count": 85,
   "id": "18cf0a8a",
   "metadata": {},
   "outputs": [
    {
     "data": {
      "text/html": [
       "<style>#sk-container-id-1 {color: black;background-color: white;}#sk-container-id-1 pre{padding: 0;}#sk-container-id-1 div.sk-toggleable {background-color: white;}#sk-container-id-1 label.sk-toggleable__label {cursor: pointer;display: block;width: 100%;margin-bottom: 0;padding: 0.3em;box-sizing: border-box;text-align: center;}#sk-container-id-1 label.sk-toggleable__label-arrow:before {content: \"▸\";float: left;margin-right: 0.25em;color: #696969;}#sk-container-id-1 label.sk-toggleable__label-arrow:hover:before {color: black;}#sk-container-id-1 div.sk-estimator:hover label.sk-toggleable__label-arrow:before {color: black;}#sk-container-id-1 div.sk-toggleable__content {max-height: 0;max-width: 0;overflow: hidden;text-align: left;background-color: #f0f8ff;}#sk-container-id-1 div.sk-toggleable__content pre {margin: 0.2em;color: black;border-radius: 0.25em;background-color: #f0f8ff;}#sk-container-id-1 input.sk-toggleable__control:checked~div.sk-toggleable__content {max-height: 200px;max-width: 100%;overflow: auto;}#sk-container-id-1 input.sk-toggleable__control:checked~label.sk-toggleable__label-arrow:before {content: \"▾\";}#sk-container-id-1 div.sk-estimator input.sk-toggleable__control:checked~label.sk-toggleable__label {background-color: #d4ebff;}#sk-container-id-1 div.sk-label input.sk-toggleable__control:checked~label.sk-toggleable__label {background-color: #d4ebff;}#sk-container-id-1 input.sk-hidden--visually {border: 0;clip: rect(1px 1px 1px 1px);clip: rect(1px, 1px, 1px, 1px);height: 1px;margin: -1px;overflow: hidden;padding: 0;position: absolute;width: 1px;}#sk-container-id-1 div.sk-estimator {font-family: monospace;background-color: #f0f8ff;border: 1px dotted black;border-radius: 0.25em;box-sizing: border-box;margin-bottom: 0.5em;}#sk-container-id-1 div.sk-estimator:hover {background-color: #d4ebff;}#sk-container-id-1 div.sk-parallel-item::after {content: \"\";width: 100%;border-bottom: 1px solid gray;flex-grow: 1;}#sk-container-id-1 div.sk-label:hover label.sk-toggleable__label {background-color: #d4ebff;}#sk-container-id-1 div.sk-serial::before {content: \"\";position: absolute;border-left: 1px solid gray;box-sizing: border-box;top: 0;bottom: 0;left: 50%;z-index: 0;}#sk-container-id-1 div.sk-serial {display: flex;flex-direction: column;align-items: center;background-color: white;padding-right: 0.2em;padding-left: 0.2em;position: relative;}#sk-container-id-1 div.sk-item {position: relative;z-index: 1;}#sk-container-id-1 div.sk-parallel {display: flex;align-items: stretch;justify-content: center;background-color: white;position: relative;}#sk-container-id-1 div.sk-item::before, #sk-container-id-1 div.sk-parallel-item::before {content: \"\";position: absolute;border-left: 1px solid gray;box-sizing: border-box;top: 0;bottom: 0;left: 50%;z-index: -1;}#sk-container-id-1 div.sk-parallel-item {display: flex;flex-direction: column;z-index: 1;position: relative;background-color: white;}#sk-container-id-1 div.sk-parallel-item:first-child::after {align-self: flex-end;width: 50%;}#sk-container-id-1 div.sk-parallel-item:last-child::after {align-self: flex-start;width: 50%;}#sk-container-id-1 div.sk-parallel-item:only-child::after {width: 0;}#sk-container-id-1 div.sk-dashed-wrapped {border: 1px dashed gray;margin: 0 0.4em 0.5em 0.4em;box-sizing: border-box;padding-bottom: 0.4em;background-color: white;}#sk-container-id-1 div.sk-label label {font-family: monospace;font-weight: bold;display: inline-block;line-height: 1.2em;}#sk-container-id-1 div.sk-label-container {text-align: center;}#sk-container-id-1 div.sk-container {/* jupyter's `normalize.less` sets `[hidden] { display: none; }` but bootstrap.min.css set `[hidden] { display: none !important; }` so we also need the `!important` here to be able to override the default hidden behavior on the sphinx rendered scikit-learn.org. See: https://github.com/scikit-learn/scikit-learn/issues/21755 */display: inline-block !important;position: relative;}#sk-container-id-1 div.sk-text-repr-fallback {display: none;}</style><div id=\"sk-container-id-1\" class=\"sk-top-container\"><div class=\"sk-text-repr-fallback\"><pre>SVC(C=2)</pre><b>In a Jupyter environment, please rerun this cell to show the HTML representation or trust the notebook. <br />On GitHub, the HTML representation is unable to render, please try loading this page with nbviewer.org.</b></div><div class=\"sk-container\" hidden><div class=\"sk-item\"><div class=\"sk-estimator sk-toggleable\"><input class=\"sk-toggleable__control sk-hidden--visually\" id=\"sk-estimator-id-1\" type=\"checkbox\" checked><label for=\"sk-estimator-id-1\" class=\"sk-toggleable__label sk-toggleable__label-arrow\">SVC</label><div class=\"sk-toggleable__content\"><pre>SVC(C=2)</pre></div></div></div></div></div>"
      ],
      "text/plain": [
       "SVC(C=2)"
      ]
     },
     "execution_count": 85,
     "metadata": {},
     "output_type": "execute_result"
    }
   ],
   "source": [
    "model=joblib.load(\"pcos_model.pkl\")\n",
    "model"
   ]
  },
  {
   "cell_type": "code",
   "execution_count": 86,
   "id": "3d76bd64",
   "metadata": {},
   "outputs": [
    {
     "data": {
      "text/plain": [
       "array([-0.15641296])"
      ]
     },
     "execution_count": 86,
     "metadata": {},
     "output_type": "execute_result"
    }
   ],
   "source": [
    "model.intercept_"
   ]
  },
  {
   "cell_type": "code",
   "execution_count": 87,
   "id": "b25b39db",
   "metadata": {},
   "outputs": [
    {
     "data": {
      "text/plain": [
       "array([-0.15641296])"
      ]
     },
     "execution_count": 87,
     "metadata": {},
     "output_type": "execute_result"
    }
   ],
   "source": [
    "final_svc.intercept_"
   ]
  },
  {
   "cell_type": "code",
   "execution_count": 88,
   "id": "049cec6d",
   "metadata": {},
   "outputs": [
    {
     "data": {
      "text/plain": [
       "(array([ 2.80000000e+01,  4.46000000e+01,  1.52000000e+02,  1.50000000e+01,\n",
       "         7.80000000e+01,  2.20000000e+01,  1.04800000e+01,  2.00000000e+00,\n",
       "         5.00000000e+00,  7.00000000e+00,  0.00000000e+00,  0.00000000e+00,\n",
       "         1.99000000e+00,  1.99000001e+00,  7.95000000e+00,  3.68000000e+00,\n",
       "         3.60000000e+01,  3.00000000e+01,  6.80000000e-01,  2.06999993e+00,\n",
       "         4.51600000e+01,  1.71000000e+01,  5.70000000e-01,  9.20000000e+01,\n",
       "         0.00000000e+00,  0.00000000e+00,  0.00000000e+00,  0.00000000e+00,\n",
       "         0.00000000e+00,  1.00000000e+00, -2.77555756e-17,  1.10000000e+02,\n",
       "         8.00000000e+01,  3.00000000e+00,  3.00000000e+00,  1.80000000e+01,\n",
       "         1.80000000e+01,  8.50000000e+00]),\n",
       " (38,))"
      ]
     },
     "execution_count": 88,
     "metadata": {},
     "output_type": "execute_result"
    }
   ],
   "source": [
    "test=sc.inverse_transform(x)\n",
    "test1=test[0]\n",
    "test1,test1.shape"
   ]
  },
  {
   "cell_type": "code",
   "execution_count": 89,
   "id": "fd1e13c7",
   "metadata": {},
   "outputs": [
    {
     "data": {
      "text/plain": [
       "Index(['Age (yrs)', 'Weight (Kg)', 'Height(Cm)', 'Blood Group',\n",
       "       'Pulse rate(bpm)', 'RR (breaths/min)', 'Hb(g/dl)', 'Cycle(R/I)',\n",
       "       'Cycle length(days)', 'Marraige Status (Yrs)', 'Pregnant(Y/N)',\n",
       "       'No. of aborptions', 'I   beta-HCG(mIU/mL)', 'II    beta-HCG(mIU/mL)',\n",
       "       'FSH(mIU/mL)', 'LH(mIU/mL)', 'Hip(inch)', 'Waist(inch)', 'TSH (mIU/L)',\n",
       "       'AMH(ng/mL)', 'PRL(ng/mL)', 'Vit D3 (ng/mL)', 'PRG(ng/mL)',\n",
       "       'RBS(mg/dl)', 'Weight gain(Y/N)', 'hair growth(Y/N)',\n",
       "       'Skin darkening (Y/N)', 'Hair loss(Y/N)', 'Pimples(Y/N)',\n",
       "       'Fast food (Y/N)', 'Reg.Exercise(Y/N)', 'BP _Systolic (mmHg)',\n",
       "       'BP _Diastolic (mmHg)', 'Follicle No. (L)', 'Follicle No. (R)',\n",
       "       'Avg. F size (L) (mm)', 'Avg. F size (R) (mm)', 'Endometrium (mm)'],\n",
       "      dtype='object')"
      ]
     },
     "execution_count": 89,
     "metadata": {},
     "output_type": "execute_result"
    }
   ],
   "source": [
    "test2=test1.reshape(-1,1)\n",
    "df1=data.drop(\"PCOS (Y/N)\",axis=1)\n",
    "df1.columns"
   ]
  },
  {
   "cell_type": "code",
   "execution_count": 90,
   "id": "7070351c",
   "metadata": {},
   "outputs": [
    {
     "data": {
      "text/plain": [
       "(38, 1)"
      ]
     },
     "execution_count": 90,
     "metadata": {},
     "output_type": "execute_result"
    }
   ],
   "source": [
    "test2.shape"
   ]
  },
  {
   "cell_type": "code",
   "execution_count": 91,
   "id": "33f43166",
   "metadata": {},
   "outputs": [
    {
     "data": {
      "text/html": [
       "<div>\n",
       "<style scoped>\n",
       "    .dataframe tbody tr th:only-of-type {\n",
       "        vertical-align: middle;\n",
       "    }\n",
       "\n",
       "    .dataframe tbody tr th {\n",
       "        vertical-align: top;\n",
       "    }\n",
       "\n",
       "    .dataframe thead th {\n",
       "        text-align: right;\n",
       "    }\n",
       "</style>\n",
       "<table border=\"1\" class=\"dataframe\">\n",
       "  <thead>\n",
       "    <tr style=\"text-align: right;\">\n",
       "      <th></th>\n",
       "      <th>Age (yrs)</th>\n",
       "      <th>Weight (Kg)</th>\n",
       "      <th>Height(Cm)</th>\n",
       "      <th>Blood Group</th>\n",
       "      <th>Pulse rate(bpm)</th>\n",
       "      <th>RR (breaths/min)</th>\n",
       "      <th>Hb(g/dl)</th>\n",
       "      <th>Cycle(R/I)</th>\n",
       "      <th>Cycle length(days)</th>\n",
       "      <th>Marraige Status (Yrs)</th>\n",
       "      <th>...</th>\n",
       "      <th>Pimples(Y/N)</th>\n",
       "      <th>Fast food (Y/N)</th>\n",
       "      <th>Reg.Exercise(Y/N)</th>\n",
       "      <th>BP _Systolic (mmHg)</th>\n",
       "      <th>BP _Diastolic (mmHg)</th>\n",
       "      <th>Follicle No. (L)</th>\n",
       "      <th>Follicle No. (R)</th>\n",
       "      <th>Avg. F size (L) (mm)</th>\n",
       "      <th>Avg. F size (R) (mm)</th>\n",
       "      <th>Endometrium (mm)</th>\n",
       "    </tr>\n",
       "  </thead>\n",
       "  <tbody>\n",
       "    <tr>\n",
       "      <th>0</th>\n",
       "      <td>28.0</td>\n",
       "      <td>44.6</td>\n",
       "      <td>152.0</td>\n",
       "      <td>15.0</td>\n",
       "      <td>78.0</td>\n",
       "      <td>22.0</td>\n",
       "      <td>10.48</td>\n",
       "      <td>2.0</td>\n",
       "      <td>5.0</td>\n",
       "      <td>7.0</td>\n",
       "      <td>...</td>\n",
       "      <td>0.0</td>\n",
       "      <td>1.0</td>\n",
       "      <td>-2.775558e-17</td>\n",
       "      <td>110.0</td>\n",
       "      <td>80.0</td>\n",
       "      <td>3.0</td>\n",
       "      <td>3.0</td>\n",
       "      <td>18.0</td>\n",
       "      <td>18.0</td>\n",
       "      <td>8.5</td>\n",
       "    </tr>\n",
       "  </tbody>\n",
       "</table>\n",
       "<p>1 rows × 38 columns</p>\n",
       "</div>"
      ],
      "text/plain": [
       "   Age (yrs)  Weight (Kg)  Height(Cm)  Blood Group  Pulse rate(bpm)  \\\n",
       "0       28.0         44.6       152.0         15.0             78.0   \n",
       "\n",
       "   RR (breaths/min)  Hb(g/dl)  Cycle(R/I)  Cycle length(days)  \\\n",
       "0              22.0     10.48         2.0                 5.0   \n",
       "\n",
       "   Marraige Status (Yrs)  ...  Pimples(Y/N)  Fast food (Y/N)  \\\n",
       "0                    7.0  ...           0.0              1.0   \n",
       "\n",
       "   Reg.Exercise(Y/N)  BP _Systolic (mmHg)  BP _Diastolic (mmHg)  \\\n",
       "0      -2.775558e-17                110.0                  80.0   \n",
       "\n",
       "   Follicle No. (L)  Follicle No. (R)  Avg. F size (L) (mm)  \\\n",
       "0               3.0               3.0                  18.0   \n",
       "\n",
       "   Avg. F size (R) (mm)  Endometrium (mm)  \n",
       "0                  18.0               8.5  \n",
       "\n",
       "[1 rows x 38 columns]"
      ]
     },
     "execution_count": 91,
     "metadata": {},
     "output_type": "execute_result"
    }
   ],
   "source": [
    "test=pd.DataFrame(test2.T,columns=df1.columns)\n",
    "test"
   ]
  },
  {
   "cell_type": "code",
   "execution_count": 92,
   "id": "c3efb45e",
   "metadata": {},
   "outputs": [
    {
     "data": {
      "text/plain": [
       "array([[-2.1551207 , -0.98568858, -0.24491609, -0.07743342, -0.98176302,\n",
       "        -2.2770868 ,  0.4167361 ,  0.45176801, -0.74327252,  0.84787147,\n",
       "        -0.99264059,  0.44481128, -0.6054705 , -0.08377209, -0.43229872,\n",
       "         0.88567208,  0.41362354, -0.00612474, -0.04433158,  0.39112781,\n",
       "         0.68374682,  0.82850164, -0.74229462, -0.05370773,  0.27851107,\n",
       "         0.46346796,  0.79775009, -0.0249116 ,  0.24095525,  0.45069826,\n",
       "        -0.74445566,  0.414904  , -0.07693772, -0.26240824, -0.42055145,\n",
       "        -0.65808494, -0.13072092]])"
      ]
     },
     "execution_count": 92,
     "metadata": {},
     "output_type": "execute_result"
    }
   ],
   "source": [
    "test=sc.transform(test)\n",
    "test=pca1.transform(test)\n",
    "test"
   ]
  },
  {
   "cell_type": "code",
   "execution_count": 93,
   "id": "87cabe00",
   "metadata": {},
   "outputs": [
    {
     "data": {
      "text/plain": [
       "array([0], dtype=int64)"
      ]
     },
     "execution_count": 93,
     "metadata": {},
     "output_type": "execute_result"
    }
   ],
   "source": [
    "final_svc.predict(test)"
   ]
  },
  {
   "cell_type": "code",
   "execution_count": 94,
   "id": "870ac98f",
   "metadata": {},
   "outputs": [],
   "source": [
    "# age, weight, height, blood_group, pulse, rr, hb, cycle_type,\n",
    "#         cycle_len, marriage_years, pregnant, abortions, beta_hcg_1, beta_hcg_2,\n",
    "#         fsh, lh, hip, waist, tsh, amh, prl, vit_d3, prg, rbs, weight_gain,\n",
    "#         hair_growth, skin_darkening, hair_loss, pimples, fast_food, exercise,\n",
    "#         bp_sys, bp_dia, follicle_l, follicle_r, fsize_l, fsize_r, endometrium"
   ]
  },
  {
   "cell_type": "code",
   "execution_count": 95,
   "id": "c26cd8d0",
   "metadata": {},
   "outputs": [
    {
     "data": {
      "text/plain": [
       "['PCOS_project.pkl']"
      ]
     },
     "execution_count": 95,
     "metadata": {},
     "output_type": "execute_result"
    }
   ],
   "source": [
    "from sklearn.pipeline import Pipeline\n",
    "pipeline=Pipeline(\n",
    "    [\n",
    "      (\"Scaler\",sc),\n",
    "      (\"PCA1\",pca1),\n",
    "      (\"model\",final_svc),  \n",
    "    ]\n",
    ")\n",
    "joblib.dump(pipeline,\"PCOS_project.pkl\")"
   ]
  },
  {
   "cell_type": "code",
   "execution_count": 96,
   "id": "c4532bc5",
   "metadata": {},
   "outputs": [
    {
     "data": {
      "text/html": [
       "<style>#sk-container-id-2 {color: black;background-color: white;}#sk-container-id-2 pre{padding: 0;}#sk-container-id-2 div.sk-toggleable {background-color: white;}#sk-container-id-2 label.sk-toggleable__label {cursor: pointer;display: block;width: 100%;margin-bottom: 0;padding: 0.3em;box-sizing: border-box;text-align: center;}#sk-container-id-2 label.sk-toggleable__label-arrow:before {content: \"▸\";float: left;margin-right: 0.25em;color: #696969;}#sk-container-id-2 label.sk-toggleable__label-arrow:hover:before {color: black;}#sk-container-id-2 div.sk-estimator:hover label.sk-toggleable__label-arrow:before {color: black;}#sk-container-id-2 div.sk-toggleable__content {max-height: 0;max-width: 0;overflow: hidden;text-align: left;background-color: #f0f8ff;}#sk-container-id-2 div.sk-toggleable__content pre {margin: 0.2em;color: black;border-radius: 0.25em;background-color: #f0f8ff;}#sk-container-id-2 input.sk-toggleable__control:checked~div.sk-toggleable__content {max-height: 200px;max-width: 100%;overflow: auto;}#sk-container-id-2 input.sk-toggleable__control:checked~label.sk-toggleable__label-arrow:before {content: \"▾\";}#sk-container-id-2 div.sk-estimator input.sk-toggleable__control:checked~label.sk-toggleable__label {background-color: #d4ebff;}#sk-container-id-2 div.sk-label input.sk-toggleable__control:checked~label.sk-toggleable__label {background-color: #d4ebff;}#sk-container-id-2 input.sk-hidden--visually {border: 0;clip: rect(1px 1px 1px 1px);clip: rect(1px, 1px, 1px, 1px);height: 1px;margin: -1px;overflow: hidden;padding: 0;position: absolute;width: 1px;}#sk-container-id-2 div.sk-estimator {font-family: monospace;background-color: #f0f8ff;border: 1px dotted black;border-radius: 0.25em;box-sizing: border-box;margin-bottom: 0.5em;}#sk-container-id-2 div.sk-estimator:hover {background-color: #d4ebff;}#sk-container-id-2 div.sk-parallel-item::after {content: \"\";width: 100%;border-bottom: 1px solid gray;flex-grow: 1;}#sk-container-id-2 div.sk-label:hover label.sk-toggleable__label {background-color: #d4ebff;}#sk-container-id-2 div.sk-serial::before {content: \"\";position: absolute;border-left: 1px solid gray;box-sizing: border-box;top: 0;bottom: 0;left: 50%;z-index: 0;}#sk-container-id-2 div.sk-serial {display: flex;flex-direction: column;align-items: center;background-color: white;padding-right: 0.2em;padding-left: 0.2em;position: relative;}#sk-container-id-2 div.sk-item {position: relative;z-index: 1;}#sk-container-id-2 div.sk-parallel {display: flex;align-items: stretch;justify-content: center;background-color: white;position: relative;}#sk-container-id-2 div.sk-item::before, #sk-container-id-2 div.sk-parallel-item::before {content: \"\";position: absolute;border-left: 1px solid gray;box-sizing: border-box;top: 0;bottom: 0;left: 50%;z-index: -1;}#sk-container-id-2 div.sk-parallel-item {display: flex;flex-direction: column;z-index: 1;position: relative;background-color: white;}#sk-container-id-2 div.sk-parallel-item:first-child::after {align-self: flex-end;width: 50%;}#sk-container-id-2 div.sk-parallel-item:last-child::after {align-self: flex-start;width: 50%;}#sk-container-id-2 div.sk-parallel-item:only-child::after {width: 0;}#sk-container-id-2 div.sk-dashed-wrapped {border: 1px dashed gray;margin: 0 0.4em 0.5em 0.4em;box-sizing: border-box;padding-bottom: 0.4em;background-color: white;}#sk-container-id-2 div.sk-label label {font-family: monospace;font-weight: bold;display: inline-block;line-height: 1.2em;}#sk-container-id-2 div.sk-label-container {text-align: center;}#sk-container-id-2 div.sk-container {/* jupyter's `normalize.less` sets `[hidden] { display: none; }` but bootstrap.min.css set `[hidden] { display: none !important; }` so we also need the `!important` here to be able to override the default hidden behavior on the sphinx rendered scikit-learn.org. See: https://github.com/scikit-learn/scikit-learn/issues/21755 */display: inline-block !important;position: relative;}#sk-container-id-2 div.sk-text-repr-fallback {display: none;}</style><div id=\"sk-container-id-2\" class=\"sk-top-container\"><div class=\"sk-text-repr-fallback\"><pre>Pipeline(steps=[(&#x27;Scaler&#x27;, StandardScaler()),\n",
       "                (&#x27;PCA1&#x27;, PCA(n_components=&#x27;mle&#x27;, svd_solver=&#x27;full&#x27;)),\n",
       "                (&#x27;model&#x27;, SVC(C=2))])</pre><b>In a Jupyter environment, please rerun this cell to show the HTML representation or trust the notebook. <br />On GitHub, the HTML representation is unable to render, please try loading this page with nbviewer.org.</b></div><div class=\"sk-container\" hidden><div class=\"sk-item sk-dashed-wrapped\"><div class=\"sk-label-container\"><div class=\"sk-label sk-toggleable\"><input class=\"sk-toggleable__control sk-hidden--visually\" id=\"sk-estimator-id-2\" type=\"checkbox\" ><label for=\"sk-estimator-id-2\" class=\"sk-toggleable__label sk-toggleable__label-arrow\">Pipeline</label><div class=\"sk-toggleable__content\"><pre>Pipeline(steps=[(&#x27;Scaler&#x27;, StandardScaler()),\n",
       "                (&#x27;PCA1&#x27;, PCA(n_components=&#x27;mle&#x27;, svd_solver=&#x27;full&#x27;)),\n",
       "                (&#x27;model&#x27;, SVC(C=2))])</pre></div></div></div><div class=\"sk-serial\"><div class=\"sk-item\"><div class=\"sk-estimator sk-toggleable\"><input class=\"sk-toggleable__control sk-hidden--visually\" id=\"sk-estimator-id-3\" type=\"checkbox\" ><label for=\"sk-estimator-id-3\" class=\"sk-toggleable__label sk-toggleable__label-arrow\">StandardScaler</label><div class=\"sk-toggleable__content\"><pre>StandardScaler()</pre></div></div></div><div class=\"sk-item\"><div class=\"sk-estimator sk-toggleable\"><input class=\"sk-toggleable__control sk-hidden--visually\" id=\"sk-estimator-id-4\" type=\"checkbox\" ><label for=\"sk-estimator-id-4\" class=\"sk-toggleable__label sk-toggleable__label-arrow\">PCA</label><div class=\"sk-toggleable__content\"><pre>PCA(n_components=&#x27;mle&#x27;, svd_solver=&#x27;full&#x27;)</pre></div></div></div><div class=\"sk-item\"><div class=\"sk-estimator sk-toggleable\"><input class=\"sk-toggleable__control sk-hidden--visually\" id=\"sk-estimator-id-5\" type=\"checkbox\" ><label for=\"sk-estimator-id-5\" class=\"sk-toggleable__label sk-toggleable__label-arrow\">SVC</label><div class=\"sk-toggleable__content\"><pre>SVC(C=2)</pre></div></div></div></div></div></div></div>"
      ],
      "text/plain": [
       "Pipeline(steps=[('Scaler', StandardScaler()),\n",
       "                ('PCA1', PCA(n_components='mle', svd_solver='full')),\n",
       "                ('model', SVC(C=2))])"
      ]
     },
     "execution_count": 96,
     "metadata": {},
     "output_type": "execute_result"
    }
   ],
   "source": [
    "model_final=joblib.load(\"PCOS_project.pkl\")\n",
    "model_final"
   ]
  },
  {
   "cell_type": "code",
   "execution_count": 97,
   "id": "6bcb0c52",
   "metadata": {},
   "outputs": [
    {
     "data": {
      "text/plain": [
       "0"
      ]
     },
     "execution_count": 97,
     "metadata": {},
     "output_type": "execute_result"
    }
   ],
   "source": [
    "test1=pd.DataFrame(test2.T,columns=df1.columns)\n",
    "model_final.predict(test1)[0]"
   ]
  },
  {
   "cell_type": "code",
   "execution_count": null,
   "id": "5796ed1e",
   "metadata": {},
   "outputs": [],
   "source": []
  }
 ],
 "metadata": {
  "kernelspec": {
   "display_name": "base",
   "language": "python",
   "name": "python3"
  },
  "language_info": {
   "codemirror_mode": {
    "name": "ipython",
    "version": 3
   },
   "file_extension": ".py",
   "mimetype": "text/x-python",
   "name": "python",
   "nbconvert_exporter": "python",
   "pygments_lexer": "ipython3",
   "version": "3.11.7"
  }
 },
 "nbformat": 4,
 "nbformat_minor": 5
}
